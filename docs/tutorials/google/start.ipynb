{
  "cells": [
    {
      "cell_type": "markdown",
      "metadata": {
        "id": "view-in-github",
        "colab_type": "text"
      },
      "source": [
        "<a href=\"https://colab.research.google.com/github/as-ahmadsabbah/AhmadSabbah/blob/main/docs/tutorials/google/start.ipynb\" target=\"_parent\"><img src=\"https://colab.research.google.com/assets/colab-badge.svg\" alt=\"Open In Colab\"/></a>"
      ]
    },
    {
      "cell_type": "markdown",
      "metadata": {
        "id": "-N59E9S4BzSr"
      },
      "source": [
        "##### Copyright 2023 The Cirq Developers"
      ]
    },
    {
      "cell_type": "code",
      "execution_count": null,
      "metadata": {
        "cellView": "form",
        "id": "_SAdH7I0B2rz"
      },
      "outputs": [],
      "source": [
        "#@title Licensed under the Apache License, Version 2.0 (the \"License\");\n",
        "# you may not use this file except in compliance with the License.\n",
        "# You may obtain a copy of the License at\n",
        "#\n",
        "# https://www.apache.org/licenses/LICENSE-2.0\n",
        "#\n",
        "# Unless required by applicable law or agreed to in writing, software\n",
        "# distributed under the License is distributed on an \"AS IS\" BASIS,\n",
        "# WITHOUT WARRANTIES OR CONDITIONS OF ANY KIND, either express or implied.\n",
        "# See the License for the specific language governing permissions and\n",
        "# limitations under the License."
      ]
    },
    {
      "cell_type": "markdown",
      "metadata": {
        "id": "fe7e28f44667"
      },
      "source": [
        "## Setup\n",
        "Note: this notebook relies on unreleased Cirq features. If you want to try these features, make sure you install cirq via `pip install cirq-google~=1.0.dev`."
      ]
    },
    {
      "cell_type": "code",
      "execution_count": 47,
      "metadata": {
        "id": "846b32703c5c",
        "outputId": "f1092009-295b-4564-aa82-3508f0d4b72b",
        "colab": {
          "base_uri": "https://localhost:8080/"
        }
      },
      "outputs": [
        {
          "output_type": "stream",
          "name": "stdout",
          "text": [
            "Requirement already satisfied: qiskit in /usr/local/lib/python3.11/dist-packages (1.3.2)\n",
            "Requirement already satisfied: qiskit-aer in /usr/local/lib/python3.11/dist-packages (0.16.0)\n",
            "Requirement already satisfied: qiskit-algorithms in /usr/local/lib/python3.11/dist-packages (0.3.1)\n",
            "Requirement already satisfied: rustworkx>=0.15.0 in /usr/local/lib/python3.11/dist-packages (from qiskit) (0.16.0)\n",
            "Requirement already satisfied: numpy<3,>=1.17 in /usr/local/lib/python3.11/dist-packages (from qiskit) (1.26.4)\n",
            "Requirement already satisfied: scipy>=1.5 in /usr/local/lib/python3.11/dist-packages (from qiskit) (1.13.1)\n",
            "Requirement already satisfied: sympy>=1.3 in /usr/local/lib/python3.11/dist-packages (from qiskit) (1.13.1)\n",
            "Requirement already satisfied: dill>=0.3 in /usr/local/lib/python3.11/dist-packages (from qiskit) (0.3.9)\n",
            "Requirement already satisfied: python-dateutil>=2.8.0 in /usr/local/lib/python3.11/dist-packages (from qiskit) (2.8.2)\n",
            "Requirement already satisfied: stevedore>=3.0.0 in /usr/local/lib/python3.11/dist-packages (from qiskit) (5.4.0)\n",
            "Requirement already satisfied: typing-extensions in /usr/local/lib/python3.11/dist-packages (from qiskit) (4.12.2)\n",
            "Requirement already satisfied: symengine<0.14,>=0.11 in /usr/local/lib/python3.11/dist-packages (from qiskit) (0.13.0)\n",
            "Requirement already satisfied: psutil>=5 in /usr/local/lib/python3.11/dist-packages (from qiskit-aer) (5.9.5)\n",
            "Requirement already satisfied: six>=1.5 in /usr/local/lib/python3.11/dist-packages (from python-dateutil>=2.8.0->qiskit) (1.17.0)\n",
            "Requirement already satisfied: pbr>=2.0.0 in /usr/local/lib/python3.11/dist-packages (from stevedore>=3.0.0->qiskit) (6.1.0)\n",
            "Requirement already satisfied: mpmath<1.4,>=1.1.0 in /usr/local/lib/python3.11/dist-packages (from sympy>=1.3->qiskit) (1.3.0)\n"
          ]
        }
      ],
      "source": [
        "!pip install qiskit qiskit-aer qiskit-algorithms\n"
      ]
    },
    {
      "cell_type": "code",
      "source": [
        "!pip install qiskit-aer\n"
      ],
      "metadata": {
        "id": "UzLIKwPl41-m",
        "outputId": "06d32096-ac86-4e2c-82de-0ef69d9bad46",
        "colab": {
          "base_uri": "https://localhost:8080/"
        }
      },
      "execution_count": 48,
      "outputs": [
        {
          "output_type": "stream",
          "name": "stdout",
          "text": [
            "Requirement already satisfied: qiskit-aer in /usr/local/lib/python3.11/dist-packages (0.16.0)\n",
            "Requirement already satisfied: qiskit>=1.1.0 in /usr/local/lib/python3.11/dist-packages (from qiskit-aer) (1.3.2)\n",
            "Requirement already satisfied: numpy>=1.16.3 in /usr/local/lib/python3.11/dist-packages (from qiskit-aer) (1.26.4)\n",
            "Requirement already satisfied: scipy>=1.0 in /usr/local/lib/python3.11/dist-packages (from qiskit-aer) (1.13.1)\n",
            "Requirement already satisfied: psutil>=5 in /usr/local/lib/python3.11/dist-packages (from qiskit-aer) (5.9.5)\n",
            "Requirement already satisfied: rustworkx>=0.15.0 in /usr/local/lib/python3.11/dist-packages (from qiskit>=1.1.0->qiskit-aer) (0.16.0)\n",
            "Requirement already satisfied: sympy>=1.3 in /usr/local/lib/python3.11/dist-packages (from qiskit>=1.1.0->qiskit-aer) (1.13.1)\n",
            "Requirement already satisfied: dill>=0.3 in /usr/local/lib/python3.11/dist-packages (from qiskit>=1.1.0->qiskit-aer) (0.3.9)\n",
            "Requirement already satisfied: python-dateutil>=2.8.0 in /usr/local/lib/python3.11/dist-packages (from qiskit>=1.1.0->qiskit-aer) (2.8.2)\n",
            "Requirement already satisfied: stevedore>=3.0.0 in /usr/local/lib/python3.11/dist-packages (from qiskit>=1.1.0->qiskit-aer) (5.4.0)\n",
            "Requirement already satisfied: typing-extensions in /usr/local/lib/python3.11/dist-packages (from qiskit>=1.1.0->qiskit-aer) (4.12.2)\n",
            "Requirement already satisfied: symengine<0.14,>=0.11 in /usr/local/lib/python3.11/dist-packages (from qiskit>=1.1.0->qiskit-aer) (0.13.0)\n",
            "Requirement already satisfied: six>=1.5 in /usr/local/lib/python3.11/dist-packages (from python-dateutil>=2.8.0->qiskit>=1.1.0->qiskit-aer) (1.17.0)\n",
            "Requirement already satisfied: pbr>=2.0.0 in /usr/local/lib/python3.11/dist-packages (from stevedore>=3.0.0->qiskit>=1.1.0->qiskit-aer) (6.1.0)\n",
            "Requirement already satisfied: mpmath<1.4,>=1.1.0 in /usr/local/lib/python3.11/dist-packages (from sympy>=1.3->qiskit>=1.1.0->qiskit-aer) (1.3.0)\n"
          ]
        }
      ]
    },
    {
      "cell_type": "code",
      "source": [
        "!pip install qiskit-aqua\n",
        "!pip install qiskit-machine-learning\n"
      ],
      "metadata": {
        "id": "4xmL9TiRGVi2",
        "outputId": "e2638238-4c86-441a-f098-08bc96718649",
        "colab": {
          "base_uri": "https://localhost:8080/"
        }
      },
      "execution_count": 49,
      "outputs": [
        {
          "output_type": "stream",
          "name": "stdout",
          "text": [
            "Collecting qiskit-aqua\n",
            "  Using cached qiskit_aqua-0.9.5-py3-none-any.whl.metadata (2.6 kB)\n",
            "Collecting qiskit-terra>=0.18.0 (from qiskit-aqua)\n",
            "  Using cached qiskit_terra-0.46.3-cp38-abi3-manylinux_2_17_x86_64.manylinux2014_x86_64.whl.metadata (13 kB)\n",
            "Collecting qiskit-ignis>=0.6.0 (from qiskit-aqua)\n",
            "  Using cached qiskit_ignis-0.7.1-py3-none-any.whl.metadata (10 kB)\n",
            "Requirement already satisfied: scipy>=1.4 in /usr/local/lib/python3.11/dist-packages (from qiskit-aqua) (1.13.1)\n",
            "Requirement already satisfied: sympy>=1.3 in /usr/local/lib/python3.11/dist-packages (from qiskit-aqua) (1.13.1)\n",
            "Requirement already satisfied: numpy>=1.17 in /usr/local/lib/python3.11/dist-packages (from qiskit-aqua) (1.26.4)\n",
            "Requirement already satisfied: psutil>=5 in /usr/local/lib/python3.11/dist-packages (from qiskit-aqua) (5.9.5)\n",
            "Requirement already satisfied: scikit-learn>=0.20.0 in /usr/local/lib/python3.11/dist-packages (from qiskit-aqua) (1.6.1)\n",
            "Collecting dlx<=1.0.4 (from qiskit-aqua)\n",
            "  Using cached dlx-1.0.4.tar.gz (5.5 kB)\n",
            "  Preparing metadata (setup.py) ... \u001b[?25l\u001b[?25hdone\n",
            "Collecting docplex>=2.21.207 (from qiskit-aqua)\n",
            "  Using cached docplex-2.29.241.tar.gz (645 kB)\n",
            "  Installing build dependencies ... \u001b[?25l\u001b[?25hdone\n",
            "  Getting requirements to build wheel ... \u001b[?25l\u001b[?25hdone\n",
            "  Installing backend dependencies ... \u001b[?25l\u001b[?25hdone\n",
            "  Preparing metadata (pyproject.toml) ... \u001b[?25l\u001b[?25hdone\n",
            "Collecting fastdtw<=0.3.4 (from qiskit-aqua)\n",
            "  Using cached fastdtw-0.3.4.tar.gz (133 kB)\n",
            "  Preparing metadata (setup.py) ... \u001b[?25l\u001b[?25hdone\n",
            "Requirement already satisfied: setuptools>=40.1.0 in /usr/local/lib/python3.11/dist-packages (from qiskit-aqua) (75.1.0)\n",
            "Collecting h5py<3.3.0 (from qiskit-aqua)\n",
            "  Using cached h5py-3.2.1.tar.gz (368 kB)\n",
            "  Installing build dependencies ... \u001b[?25l\u001b[?25hdone\n",
            "  Getting requirements to build wheel ... \u001b[?25l\u001b[?25hdone\n",
            "  \u001b[1;31merror\u001b[0m: \u001b[1msubprocess-exited-with-error\u001b[0m\n",
            "  \n",
            "  \u001b[31m×\u001b[0m \u001b[32mpip subprocess to install backend dependencies\u001b[0m did not run successfully.\n",
            "  \u001b[31m│\u001b[0m exit code: \u001b[1;36m1\u001b[0m\n",
            "  \u001b[31m╰─>\u001b[0m See above for output.\n",
            "  \n",
            "  \u001b[1;35mnote\u001b[0m: This error originates from a subprocess, and is likely not a problem with pip.\n",
            "  Installing backend dependencies ... \u001b[?25l\u001b[?25herror\n",
            "\u001b[1;31merror\u001b[0m: \u001b[1msubprocess-exited-with-error\u001b[0m\n",
            "\n",
            "\u001b[31m×\u001b[0m \u001b[32mpip subprocess to install backend dependencies\u001b[0m did not run successfully.\n",
            "\u001b[31m│\u001b[0m exit code: \u001b[1;36m1\u001b[0m\n",
            "\u001b[31m╰─>\u001b[0m See above for output.\n",
            "\n",
            "\u001b[1;35mnote\u001b[0m: This error originates from a subprocess, and is likely not a problem with pip.\n",
            "Requirement already satisfied: qiskit-machine-learning in /usr/local/lib/python3.11/dist-packages (0.8.2)\n",
            "Requirement already satisfied: qiskit>=1.0 in /usr/local/lib/python3.11/dist-packages (from qiskit-machine-learning) (1.3.2)\n",
            "Requirement already satisfied: scipy>=1.4 in /usr/local/lib/python3.11/dist-packages (from qiskit-machine-learning) (1.13.1)\n",
            "Requirement already satisfied: numpy>=1.17 in /usr/local/lib/python3.11/dist-packages (from qiskit-machine-learning) (1.26.4)\n",
            "Requirement already satisfied: psutil>=5 in /usr/local/lib/python3.11/dist-packages (from qiskit-machine-learning) (5.9.5)\n",
            "Requirement already satisfied: scikit-learn>=1.2 in /usr/local/lib/python3.11/dist-packages (from qiskit-machine-learning) (1.6.1)\n",
            "Requirement already satisfied: setuptools>=40.1 in /usr/local/lib/python3.11/dist-packages (from qiskit-machine-learning) (75.1.0)\n",
            "Requirement already satisfied: dill>=0.3.4 in /usr/local/lib/python3.11/dist-packages (from qiskit-machine-learning) (0.3.9)\n",
            "Requirement already satisfied: rustworkx>=0.15.0 in /usr/local/lib/python3.11/dist-packages (from qiskit>=1.0->qiskit-machine-learning) (0.16.0)\n",
            "Requirement already satisfied: sympy>=1.3 in /usr/local/lib/python3.11/dist-packages (from qiskit>=1.0->qiskit-machine-learning) (1.13.1)\n",
            "Requirement already satisfied: python-dateutil>=2.8.0 in /usr/local/lib/python3.11/dist-packages (from qiskit>=1.0->qiskit-machine-learning) (2.8.2)\n",
            "Requirement already satisfied: stevedore>=3.0.0 in /usr/local/lib/python3.11/dist-packages (from qiskit>=1.0->qiskit-machine-learning) (5.4.0)\n",
            "Requirement already satisfied: typing-extensions in /usr/local/lib/python3.11/dist-packages (from qiskit>=1.0->qiskit-machine-learning) (4.12.2)\n",
            "Requirement already satisfied: symengine<0.14,>=0.11 in /usr/local/lib/python3.11/dist-packages (from qiskit>=1.0->qiskit-machine-learning) (0.13.0)\n",
            "Requirement already satisfied: joblib>=1.2.0 in /usr/local/lib/python3.11/dist-packages (from scikit-learn>=1.2->qiskit-machine-learning) (1.4.2)\n",
            "Requirement already satisfied: threadpoolctl>=3.1.0 in /usr/local/lib/python3.11/dist-packages (from scikit-learn>=1.2->qiskit-machine-learning) (3.5.0)\n",
            "Requirement already satisfied: six>=1.5 in /usr/local/lib/python3.11/dist-packages (from python-dateutil>=2.8.0->qiskit>=1.0->qiskit-machine-learning) (1.17.0)\n",
            "Requirement already satisfied: pbr>=2.0.0 in /usr/local/lib/python3.11/dist-packages (from stevedore>=3.0.0->qiskit>=1.0->qiskit-machine-learning) (6.1.0)\n",
            "Requirement already satisfied: mpmath<1.4,>=1.1.0 in /usr/local/lib/python3.11/dist-packages (from sympy>=1.3->qiskit>=1.0->qiskit-machine-learning) (1.3.0)\n"
          ]
        }
      ]
    },
    {
      "cell_type": "code",
      "source": [
        "import pandas as pd\n",
        "import numpy as np\n",
        "from sklearn.model_selection import train_test_split\n",
        "from sklearn.ensemble import RandomForestRegressor\n",
        "from sklearn.metrics import mean_squared_error, r2_score\n",
        "import time\n",
        "\n",
        "# قراءة البيانات\n",
        "data = pd.read_csv(\"/content/carbon_capture_1000_rows.csv\")\n",
        "\n",
        "# الميزات (Features) والنتائج المستهدفة (Targets)\n",
        "X = data[[\"Pressure\", \"Temperature\", \"Gas_Flow_Rate\"]]\n",
        "y_energy = data[\"Energy_Consumption\"]\n",
        "y_efficiency = data[\"CO2_Capture_Efficiency\"]\n",
        "\n",
        "# تقسيم البيانات إلى تدريب واختبار\n",
        "X_train, X_test, y_train_energy, y_test_energy = train_test_split(X, y_energy, test_size=0.2, random_state=42)\n",
        "_, _, y_train_efficiency, y_test_efficiency = train_test_split(X, y_efficiency, test_size=0.2, random_state=42)\n",
        "\n",
        "print(\"Done\")\n"
      ],
      "metadata": {
        "id": "ATqQt8aXusKH",
        "outputId": "7cdda9da-7c5e-4a6e-8dc0-8827ac6ba6ad",
        "colab": {
          "base_uri": "https://localhost:8080/"
        }
      },
      "execution_count": 3,
      "outputs": [
        {
          "output_type": "stream",
          "name": "stdout",
          "text": [
            "Done\n"
          ]
        }
      ]
    },
    {
      "cell_type": "code",
      "source": [
        "print(\"Training AI (Random Forest)...\")\n",
        "start_ai = time.time()\n",
        "\n",
        "# نموذج لتوقع استهلاك الطاقة\n",
        "rf_energy = RandomForestRegressor(n_estimators=100, random_state=42)\n",
        "rf_energy.fit(X_train, y_train_energy)\n",
        "\n",
        "# نموذج لتوقع كفاءة الالتقاط\n",
        "rf_efficiency = RandomForestRegressor(n_estimators=100, random_state=42)\n",
        "rf_efficiency.fit(X_train, y_train_efficiency)\n",
        "\n",
        "end_ai = time.time()\n",
        "\n",
        "# توقع القيم\n",
        "y_pred_energy_ai = rf_energy.predict(X_test)\n",
        "y_pred_efficiency_ai = rf_efficiency.predict(X_test)\n",
        "\n",
        "# دقة النموذج\n",
        "energy_mse_ai = mean_squared_error(y_test_energy, y_pred_energy_ai)\n",
        "efficiency_mse_ai = mean_squared_error(y_test_efficiency, y_pred_efficiency_ai)\n",
        "r2_energy_ai = r2_score(y_test_energy, y_pred_energy_ai)\n",
        "r2_efficiency_ai = r2_score(y_test_efficiency, y_pred_efficiency_ai)\n",
        "\n",
        "print(f\"Energy Prediction: MSE={energy_mse_ai:.2f}, R²={r2_energy_ai:.2f}\")\n",
        "print(f\"Efficiency Prediction: MSE={efficiency_mse_ai:.2f}, R²={r2_efficiency_ai:.2f}\")\n",
        "print(f\"Training Time: {end_ai - start_ai:.2f} seconds\")\n"
      ],
      "metadata": {
        "id": "eQOF_IMMu4MB",
        "outputId": "82c0a389-2414-4f56-9d8e-022cb51c3bdb",
        "colab": {
          "base_uri": "https://localhost:8080/"
        }
      },
      "execution_count": 10,
      "outputs": [
        {
          "output_type": "stream",
          "name": "stdout",
          "text": [
            "Training AI (Random Forest)...\n",
            "Energy Prediction: MSE=500.74, R²=-0.12\n",
            "Efficiency Prediction: MSE=18.10, R²=-0.10\n",
            "Training Time: 0.91 seconds\n"
          ]
        }
      ]
    },
    {
      "cell_type": "code",
      "source": [
        "import pandas as pd\n",
        "import numpy as np\n",
        "from sklearn.model_selection import train_test_split\n",
        "from sklearn.ensemble import RandomForestRegressor\n",
        "from sklearn.metrics import mean_squared_error, r2_score\n",
        "from qiskit_aer import Aer\n",
        "from qiskit_algorithms import VQE\n",
        "from qiskit.circuit.library import RealAmplitudes\n",
        "from qiskit_algorithms.optimizers import COBYLA\n",
        "from qiskit_aer import AerSimulator  # المحاكي الكمومي\n",
        "import time\n",
        "\n",
        "# قراءة البيانات\n",
        "data = pd.read_csv(\"/content/carbon_capture_1000_rows.csv\")\n",
        "\n",
        "# الميزات (Features) والنتائج المستهدفة (Targets)\n",
        "X = data[[\"Pressure\", \"Temperature\", \"Gas_Flow_Rate\"]]\n",
        "y_energy = data[\"Energy_Consumption\"]\n",
        "y_efficiency = data[\"CO2_Capture_Efficiency\"]\n",
        "\n",
        "# تقسيم البيانات إلى تدريب واختبار\n",
        "X_train, X_test, y_train_energy, y_test_energy = train_test_split(X, y_energy, test_size=0.2, random_state=42)\n",
        "_, _, y_train_efficiency, y_test_efficiency = train_test_split(X, y_efficiency, test_size=0.2, random_state=42)\n",
        "\n",
        "print(\"Done\")\n",
        "print(\"Training AI (Random Forest)...\")\n",
        "start_ai = time.time()\n",
        "\n",
        "# نموذج لتوقع استهلاك الطاقة\n",
        "rf_energy = RandomForestRegressor(n_estimators=100, random_state=42)\n",
        "rf_energy.fit(X_train, y_train_energy)\n",
        "\n",
        "# نموذج لتوقع كفاءة الالتقاط\n",
        "rf_efficiency = RandomForestRegressor(n_estimators=100, random_state=42)\n",
        "rf_efficiency.fit(X_train, y_train_efficiency)\n",
        "\n",
        "end_ai = time.time()\n",
        "\n",
        "# توقع القيم\n",
        "y_pred_energy_ai = rf_energy.predict(X_test)\n",
        "y_pred_efficiency_ai = rf_efficiency.predict(X_test)\n",
        "\n",
        "# دقة النموذج\n",
        "energy_mse_ai = mean_squared_error(y_test_energy, y_pred_energy_ai)\n",
        "efficiency_mse_ai = mean_squared_error(y_test_efficiency, y_pred_efficiency_ai)\n",
        "r2_energy_ai = r2_score(y_test_energy, y_pred_energy_ai)\n",
        "r2_efficiency_ai = r2_score(y_test_efficiency, y_pred_efficiency_ai)\n",
        "\n",
        "print(f\"Energy Prediction: MSE={energy_mse_ai:.2f}, R²={r2_energy_ai:.2f}\")\n",
        "print(f\"Efficiency Prediction: MSE={efficiency_mse_ai:.2f}, R²={r2_efficiency_ai:.2f}\")\n",
        "print(f\"Training Time: {end_ai - start_ai:.2f} seconds\")\n",
        "\n",
        "# تحسين معلمات Random Forest باستخدام VQE كمحسن\n",
        "from qiskit_algorithms.optimizers import COBYLA\n",
        "from qiskit.circuit.library import RealAmplitudes\n",
        "from qiskit_aer import AerSimulator  # المحاكي الكمومي\n",
        "\n",
        "# دالة لقياس الأداء\n",
        "def evaluate_rf(params):\n",
        "    n_estimators = int(params[0])  # عدد الأشجار\n",
        "    max_depth = int(params[1])  # عمق الأشجار\n",
        "    rf_model = RandomForestRegressor(n_estimators=n_estimators, max_depth=max_depth, random_state=54)\n",
        "    rf_model.fit(X_train, y_train_energy)  # تدريب النموذج\n",
        "    y_pred = rf_model.predict(X_test)  # التنبؤ\n",
        "    mse = mean_squared_error(y_test_energy, y_pred)  # حساب MSE\n",
        "    return mse\n",
        "\n",
        "# إعداد المحسن (VQE)\n",
        "start_ai = time.time()\n",
        "\n",
        "optimizer = COBYLA()\n",
        "\n",
        "# بدء التحسين باستخدام VQE\n",
        "params = [50, 10]  # المعلمات الأولية (عدد الأشجار، العمق)\n",
        "vqe_result = optimizer.minimize(evaluate_rf, x0=params)  # استخدم x0 بدلاً من initial_point\n",
        "end_ai = time.time()\n",
        "\n",
        "# تدريب نموذج Random Forest\n",
        "rf_model = RandomForestRegressor(n_estimators=int(vqe_result.x[0]), max_depth=int(vqe_result.x[1]), random_state=54)\n",
        "rf_model.fit(X_train, y_train_energy)\n",
        "\n",
        "# التنبؤ وحساب MSE و R²\n",
        "y_pred_rf = rf_model.predict(X_test)\n",
        "energy_mse_rf = mean_squared_error(y_test_energy, y_pred_rf)\n",
        "r2_energy_rf = r2_score(y_test_energy, y_pred_rf)\n",
        "\n",
        "# طباعة النتائج\n",
        "print(f\"Energy Prediction: MSE={energy_mse_rf:.2f}, R²={r2_energy_rf:.2f}\")\n",
        "print(f\"Efficiency Prediction: MSE={energy_mse_rf:.2f}, R²={r2_energy_rf:.2f}\")  # تعديل لطباعته بخصوص الكفاءة\n",
        "\n",
        "print(f\"Best parameters from VQE: {vqe_result.x}\")\n",
        "print(f\"Best MSE: {vqe_result.fun}\")\n"
      ],
      "metadata": {
        "id": "U8P_oox6VogO",
        "outputId": "13cf4b44-5258-42ce-a10d-b8077317a73e",
        "colab": {
          "base_uri": "https://localhost:8080/",
          "height": 297
        }
      },
      "execution_count": 91,
      "outputs": [
        {
          "output_type": "stream",
          "name": "stdout",
          "text": [
            "Done\n",
            "Training AI (Random Forest)...\n",
            "Energy Prediction: MSE=500.74, R²=-0.12\n",
            "Efficiency Prediction: MSE=18.10, R²=-0.10\n",
            "Training Time: 0.88 seconds\n"
          ]
        },
        {
          "output_type": "error",
          "ename": "IndexError",
          "evalue": "index 2 is out of bounds for axis 0 with size 2",
          "traceback": [
            "\u001b[0;31m---------------------------------------------------------------------------\u001b[0m",
            "\u001b[0;31mIndexError\u001b[0m                                Traceback (most recent call last)",
            "\u001b[0;32m<ipython-input-91-7eb3b5c81b5e>\u001b[0m in \u001b[0;36m<cell line: 0>\u001b[0;34m()\u001b[0m\n\u001b[1;32m     77\u001b[0m \u001b[0;34m\u001b[0m\u001b[0m\n\u001b[1;32m     78\u001b[0m \u001b[0;31m# تدريب نموذج Random Forest\u001b[0m\u001b[0;34m\u001b[0m\u001b[0;34m\u001b[0m\u001b[0m\n\u001b[0;32m---> 79\u001b[0;31m \u001b[0mrf_model\u001b[0m \u001b[0;34m=\u001b[0m \u001b[0mRandomForestRegressor\u001b[0m\u001b[0;34m(\u001b[0m\u001b[0mn_estimators\u001b[0m\u001b[0;34m=\u001b[0m\u001b[0mint\u001b[0m\u001b[0;34m(\u001b[0m\u001b[0mvqe_result\u001b[0m\u001b[0;34m.\u001b[0m\u001b[0mx\u001b[0m\u001b[0;34m[\u001b[0m\u001b[0;36m1\u001b[0m\u001b[0;34m]\u001b[0m\u001b[0;34m)\u001b[0m\u001b[0;34m,\u001b[0m \u001b[0mmax_depth\u001b[0m\u001b[0;34m=\u001b[0m\u001b[0mint\u001b[0m\u001b[0;34m(\u001b[0m\u001b[0mvqe_result\u001b[0m\u001b[0;34m.\u001b[0m\u001b[0mx\u001b[0m\u001b[0;34m[\u001b[0m\u001b[0;36m2\u001b[0m\u001b[0;34m]\u001b[0m\u001b[0;34m)\u001b[0m\u001b[0;34m,\u001b[0m \u001b[0mrandom_state\u001b[0m\u001b[0;34m=\u001b[0m\u001b[0;36m54\u001b[0m\u001b[0;34m)\u001b[0m\u001b[0;34m\u001b[0m\u001b[0;34m\u001b[0m\u001b[0m\n\u001b[0m\u001b[1;32m     80\u001b[0m \u001b[0mrf_model\u001b[0m\u001b[0;34m.\u001b[0m\u001b[0mfit\u001b[0m\u001b[0;34m(\u001b[0m\u001b[0mX_train\u001b[0m\u001b[0;34m,\u001b[0m \u001b[0my_train_energy\u001b[0m\u001b[0;34m)\u001b[0m\u001b[0;34m\u001b[0m\u001b[0;34m\u001b[0m\u001b[0m\n\u001b[1;32m     81\u001b[0m \u001b[0;34m\u001b[0m\u001b[0m\n",
            "\u001b[0;31mIndexError\u001b[0m: index 2 is out of bounds for axis 0 with size 2"
          ]
        }
      ]
    },
    {
      "cell_type": "code",
      "source": [
        "import pandas as pd\n",
        "import numpy as np\n",
        "from sklearn.model_selection import train_test_split\n",
        "from sklearn.metrics import mean_squared_error, r2_score\n",
        "from qiskit_aer import Aer\n",
        "from qiskit_algorithms import VQE\n",
        "from qiskit.circuit.library import RealAmplitudes\n",
        "from qiskit_algorithms.optimizers import COBYLA\n",
        "from qiskit_aer import AerSimulator  # المحاكي الكمومي\n",
        "from xgboost import XGBRegressor  # مكتبة XGBoost\n",
        "import time\n",
        "\n",
        "# قراءة البيانات\n",
        "data = pd.read_csv(\"/content/carbon_capture_1000_rows.csv\")\n",
        "\n",
        "# الميزات (Features) والنتائج المستهدفة (Targets)\n",
        "X = data[[\"Pressure\", \"Temperature\", \"Gas_Flow_Rate\"]]\n",
        "y_energy = data[\"Energy_Consumption\"]\n",
        "y_efficiency = data[\"CO2_Capture_Efficiency\"]\n",
        "\n",
        "# تقسيم البيانات إلى تدريب واختبار\n",
        "X_train, X_test, y_train_energy, y_test_energy = train_test_split(X, y_energy, test_size=0.2, random_state=42)\n",
        "_, _, y_train_efficiency, y_test_efficiency = train_test_split(X, y_efficiency, test_size=0.2, random_state=42)\n",
        "\n",
        "print(\"Done\")\n",
        "print(\"Training AI (XGBoost)...\")\n",
        "start_ai = time.time()\n",
        "\n",
        "# نموذج لتوقع استهلاك الطاقة باستخدام XGBoost\n",
        "xgb_energy = XGBRegressor(n_estimators=100, random_state=42)\n",
        "xgb_energy.fit(X_train, y_train_energy)\n",
        "\n",
        "# نموذج لتوقع كفاءة الالتقاط باستخدام XGBoost\n",
        "xgb_efficiency = XGBRegressor(n_estimators=100, random_state=42)\n",
        "xgb_efficiency.fit(X_train, y_train_efficiency)\n",
        "\n",
        "end_ai = time.time()\n",
        "\n",
        "# توقع القيم\n",
        "y_pred_energy_ai = xgb_energy.predict(X_test)\n",
        "y_pred_efficiency_ai = xgb_efficiency.predict(X_test)\n",
        "\n",
        "# دقة النموذج\n",
        "energy_mse_ai = mean_squared_error(y_test_energy, y_pred_energy_ai)\n",
        "efficiency_mse_ai = mean_squared_error(y_test_efficiency, y_pred_efficiency_ai)\n",
        "r2_energy_ai = r2_score(y_test_energy, y_pred_energy_ai)\n",
        "r2_efficiency_ai = r2_score(y_test_efficiency, y_pred_efficiency_ai)\n",
        "\n",
        "print(f\"Energy Prediction: MSE={energy_mse_ai:.2f}, R²={r2_energy_ai:.2f}\")\n",
        "print(f\"Efficiency Prediction: MSE={efficiency_mse_ai:.2f}, R²={r2_efficiency_ai:.2f}\")\n",
        "print(f\"Training Time: {end_ai - start_ai:.2f} seconds\")\n",
        "\n",
        "# تحسين معلمات XGBoost باستخدام VQE كمحسن\n",
        "print(\"Optimizing with VQE...\")\n",
        "\n",
        "# دالة لقياس الأداء مع XGBoost\n",
        "def evaluate_xgb(params):\n",
        "    n_estimators = int(params[0])  # عدد الأشجار\n",
        "    max_depth = int(params[1])  # عمق الأشجار\n",
        "    xgb_model = XGBRegressor(n_estimators=n_estimators, max_depth=max_depth, random_state=54)\n",
        "    xgb_model.fit(X_train, y_train_energy)  # تدريب النموذج\n",
        "    y_pred = xgb_model.predict(X_test)  # التنبؤ\n",
        "    mse = mean_squared_error(y_test_energy, y_pred)  # حساب MSE\n",
        "    return mse\n",
        "\n",
        "# إعداد المحسن (VQE)\n",
        "start_ai = time.time()\n",
        "optimizer = COBYLA()\n",
        "\n",
        "# بدء التحسين باستخدام VQE\n",
        "params = [50, 10]  # المعلمات الأولية (عدد الأشجار، العمق)\n",
        "vqe_result = optimizer.minimize(evaluate_xgb, x0=params)\n",
        "end_ai = time.time()\n",
        "\n",
        "# تدريب نموذج XGBoost المحسن\n",
        "xgb_model = XGBRegressor(n_estimators=int(vqe_result.x[0]), max_depth=int(vqe_result.x[1]), random_state=54)\n",
        "xgb_model.fit(X_train, y_train_energy)\n",
        "\n",
        "# التنبؤ وحساب MSE و R²\n",
        "y_pred_rf = xgb_model.predict(X_test)\n",
        "energy_mse_rf = mean_squared_error(y_test_energy, y_pred_rf)\n",
        "r2_energy_rf = r2_score(y_test_energy, y_pred_rf)\n",
        "\n",
        "# طباعة النتائج\n",
        "print(f\"Energy Prediction: MSE={energy_mse_rf:.2f}, R²={r2_energy_rf:.2f}\")\n",
        "print(f\"Efficiency Prediction: MSE={energy_mse_rf:.2f}, R²={r2_energy_rf:.2f}\")\n",
        "print(f\"Best parameters from VQE: {vqe_result.x}\")\n",
        "print(f\"Best MSE: {vqe_result.fun}\")\n",
        "print(f\"Optimization Time: {end_ai - start_ai:.2f} seconds\")\n"
      ],
      "metadata": {
        "id": "3Y-pU4ssvFKc",
        "outputId": "947b3c5e-5925-4e5c-de90-4712b9ec4557",
        "colab": {
          "base_uri": "https://localhost:8080/"
        }
      },
      "execution_count": 92,
      "outputs": [
        {
          "output_type": "stream",
          "name": "stdout",
          "text": [
            "Done\n",
            "Training AI (XGBoost)...\n",
            "Energy Prediction: MSE=591.97, R²=-0.33\n",
            "Efficiency Prediction: MSE=22.20, R²=-0.34\n",
            "Training Time: 0.29 seconds\n",
            "Optimizing with VQE...\n",
            "Energy Prediction: MSE=566.07, R²=-0.27\n",
            "Efficiency Prediction: MSE=566.07, R²=-0.27\n",
            "Best parameters from VQE: [49.99998884 11.00009938]\n",
            "Best MSE: 566.0733549864772\n",
            "Optimization Time: 3.77 seconds\n"
          ]
        }
      ]
    },
    {
      "cell_type": "code",
      "source": [
        "import pandas as pd\n",
        "import numpy as np\n",
        "from sklearn.model_selection import train_test_split\n",
        "from sklearn.metrics import mean_squared_error, r2_score\n",
        "from qiskit_aer import Aer\n",
        "from qiskit_algorithms import VQE\n",
        "from qiskit.circuit.library import RealAmplitudes\n",
        "from qiskit_algorithms.optimizers import COBYLA\n",
        "from tensorflow.keras.models import Sequential\n",
        "from tensorflow.keras.layers import Dense\n",
        "import time\n",
        "\n",
        "# قراءة البيانات\n",
        "data = pd.read_csv(\"/content/carbon_capture_1000_rows.csv\")\n",
        "\n",
        "# الميزات (Features) والنتائج المستهدفة (Targets)\n",
        "X = data[[\"Pressure\", \"Temperature\", \"Gas_Flow_Rate\"]]\n",
        "y_energy = data[\"Energy_Consumption\"]\n",
        "y_efficiency = data[\"CO2_Capture_Efficiency\"]\n",
        "\n",
        "# تقسيم البيانات إلى تدريب واختبار\n",
        "X_train, X_test, y_train_energy, y_test_energy = train_test_split(X, y_energy, test_size=0.2, random_state=42)\n",
        "_, _, y_train_efficiency, y_test_efficiency = train_test_split(X, y_efficiency, test_size=0.2, random_state=42)\n",
        "\n",
        "print(\"Done\")\n",
        "print(\"Training Neural Network (Keras)...\")\n",
        "start_nn = time.time()\n",
        "\n",
        "# بناء نموذج شبكة عصبية لتوقع استهلاك الطاقة\n",
        "model_energy = Sequential()\n",
        "model_energy.add(Dense(units=64, activation='relu', input_dim=X_train.shape[1]))\n",
        "model_energy.add(Dense(units=32, activation='relu'))\n",
        "model_energy.add(Dense(units=1))  # الخرج: استهلاك الطاقة\n",
        "\n",
        "model_energy.compile(optimizer='adam', loss='mean_squared_error')\n",
        "\n",
        "# تدريب النموذج\n",
        "model_energy.fit(X_train, y_train_energy, epochs=50, batch_size=32, verbose=0)\n",
        "\n",
        "# بناء نموذج شبكة عصبية لتوقع كفاءة الالتقاط\n",
        "model_efficiency = Sequential()\n",
        "model_efficiency.add(Dense(units=64, activation='relu', input_dim=X_train.shape[1]))\n",
        "model_efficiency.add(Dense(units=32, activation='relu'))\n",
        "model_efficiency.add(Dense(units=1))  # الخرج: كفاءة الالتقاط\n",
        "\n",
        "model_efficiency.compile(optimizer='adam', loss='mean_squared_error')\n",
        "\n",
        "# تدريب النموذج\n",
        "model_efficiency.fit(X_train, y_train_efficiency, epochs=50, batch_size=32, verbose=0)\n",
        "\n",
        "end_nn = time.time()\n",
        "\n",
        "# توقع القيم\n",
        "y_pred_energy_nn = model_energy.predict(X_test)\n",
        "y_pred_efficiency_nn = model_efficiency.predict(X_test)\n",
        "\n",
        "# دقة النموذج\n",
        "energy_mse_nn = mean_squared_error(y_test_energy, y_pred_energy_nn)\n",
        "efficiency_mse_nn = mean_squared_error(y_test_efficiency, y_pred_efficiency_nn)\n",
        "r2_energy_nn = r2_score(y_test_energy, y_pred_energy_nn)\n",
        "r2_efficiency_nn = r2_score(y_test_efficiency, y_pred_efficiency_nn)\n",
        "\n",
        "print(f\"Energy Prediction: MSE={energy_mse_nn:.2f}, R²={r2_energy_nn:.2f}\")\n",
        "print(f\"Efficiency Prediction: MSE={efficiency_mse_nn:.2f}, R²={r2_efficiency_nn:.2f}\")\n",
        "print(f\"Training Time: {end_nn - start_nn:.2f} seconds\")\n",
        "\n",
        "# تحسين معلمات الشبكة العصبية باستخدام VQE كمحسن\n",
        "print(\"Optimizing with VQE...\")\n",
        "\n",
        "# تعريف دالة الأداء\n",
        "def evaluate_nn(params):\n",
        "    units_1 = int(params[0])  # عدد الوحدات في الطبقة الأولى\n",
        "    units_2 = int(params[1])  # عدد الوحدات في الطبقة الثانية\n",
        "    model = Sequential()\n",
        "    model.add(Dense(units=units_1, activation='relu', input_dim=X_train.shape[1]))\n",
        "    model.add(Dense(units=units_2, activation='relu'))\n",
        "    model.add(Dense(units=1))  # الخرج: استهلاك الطاقة\n",
        "    model.compile(optimizer='adam', loss='mean_squared_error')\n",
        "    model.fit(X_train, y_train_energy, epochs=50, batch_size=32, verbose=0)\n",
        "    y_pred = model.predict(X_test)\n",
        "    mse = mean_squared_error(y_test_energy, y_pred)\n",
        "    return mse\n",
        "\n",
        "# إعداد المحسن الكمومي (VQE)\n",
        "start_ai = time.time()\n",
        "optimizer = COBYLA(maxiter=200)\n",
        "\n",
        "# التحسين باستخدام VQE\n",
        "params = [64, 32]  # المعلمات الأولية (عدد الوحدات في الطبقتين)\n",
        "vqe_result = optimizer.minimize(evaluate_nn, x0=params)\n",
        "\n",
        "end_ai = time.time()\n",
        "\n",
        "# تدريب النموذج المحسن باستخدام المعلمات من VQE\n",
        "model_opt = Sequential()\n",
        "model_opt.add(Dense(units=int(vqe_result.x[0]), activation='relu', input_dim=X_train.shape[1]))\n",
        "model_opt.add(Dense(units=int(vqe_result.x[1]), activation='relu'))\n",
        "model_opt.add(Dense(units=1))  # الخرج: استهلاك الطاقة\n",
        "model_opt.compile(optimizer='adam', loss='mean_squared_error')\n",
        "model_opt.fit(X_train, y_train_energy, epochs=50, batch_size=32, verbose=0)\n",
        "\n",
        "# التنبؤ وحساب MSE و R²\n",
        "y_pred_opt = model_opt.predict(X_test)\n",
        "energy_mse_opt = mean_squared_error(y_test_energy, y_pred_opt)\n",
        "r2_energy_opt = r2_score(y_test_energy, y_pred_opt)\n",
        "\n",
        "# طباعة النتائج\n",
        "print(f\"Optimized Energy Prediction: MSE={energy_mse_opt:.2f}, R²={r2_energy_opt:.2f}\")\n",
        "print(f\"Best parameters from VQE: {vqe_result.x}\")\n",
        "print(f\"Best MSE: {vqe_result.fun}\")\n",
        "print(f\"Optimization Time: {end_ai - start_ai:.2f} seconds\")\n"
      ],
      "metadata": {
        "id": "BkTrsHDYyN2f",
        "outputId": "ffa9e0ca-2c08-4bd3-ad55-a529a0986d5e",
        "colab": {
          "base_uri": "https://localhost:8080/"
        }
      },
      "execution_count": 93,
      "outputs": [
        {
          "output_type": "stream",
          "name": "stdout",
          "text": [
            "Done\n",
            "Training Neural Network (Keras)...\n"
          ]
        },
        {
          "output_type": "stream",
          "name": "stderr",
          "text": [
            "/usr/local/lib/python3.11/dist-packages/keras/src/layers/core/dense.py:87: UserWarning: Do not pass an `input_shape`/`input_dim` argument to a layer. When using Sequential models, prefer using an `Input(shape)` object as the first layer in the model instead.\n",
            "  super().__init__(activity_regularizer=activity_regularizer, **kwargs)\n",
            "/usr/local/lib/python3.11/dist-packages/keras/src/layers/core/dense.py:87: UserWarning: Do not pass an `input_shape`/`input_dim` argument to a layer. When using Sequential models, prefer using an `Input(shape)` object as the first layer in the model instead.\n",
            "  super().__init__(activity_regularizer=activity_regularizer, **kwargs)\n"
          ]
        },
        {
          "output_type": "stream",
          "name": "stdout",
          "text": [
            "\u001b[1m7/7\u001b[0m \u001b[32m━━━━━━━━━━━━━━━━━━━━\u001b[0m\u001b[37m\u001b[0m \u001b[1m0s\u001b[0m 7ms/step \n",
            "\u001b[1m7/7\u001b[0m \u001b[32m━━━━━━━━━━━━━━━━━━━━\u001b[0m\u001b[37m\u001b[0m \u001b[1m0s\u001b[0m 7ms/step \n",
            "Energy Prediction: MSE=753.56, R²=-0.69\n",
            "Efficiency Prediction: MSE=384.22, R²=-22.26\n",
            "Training Time: 9.67 seconds\n",
            "Optimizing with VQE...\n"
          ]
        },
        {
          "output_type": "stream",
          "name": "stderr",
          "text": [
            "/usr/local/lib/python3.11/dist-packages/keras/src/layers/core/dense.py:87: UserWarning: Do not pass an `input_shape`/`input_dim` argument to a layer. When using Sequential models, prefer using an `Input(shape)` object as the first layer in the model instead.\n",
            "  super().__init__(activity_regularizer=activity_regularizer, **kwargs)\n",
            "WARNING:tensorflow:5 out of the last 15 calls to <function TensorFlowTrainer.make_predict_function.<locals>.one_step_on_data_distributed at 0x795bc654e160> triggered tf.function retracing. Tracing is expensive and the excessive number of tracings could be due to (1) creating @tf.function repeatedly in a loop, (2) passing tensors with different shapes, (3) passing Python objects instead of tensors. For (1), please define your @tf.function outside of the loop. For (2), @tf.function has reduce_retracing=True option that can avoid unnecessary retracing. For (3), please refer to https://www.tensorflow.org/guide/function#controlling_retracing and https://www.tensorflow.org/api_docs/python/tf/function for  more details.\n"
          ]
        },
        {
          "output_type": "stream",
          "name": "stdout",
          "text": [
            "\u001b[1m7/7\u001b[0m \u001b[32m━━━━━━━━━━━━━━━━━━━━\u001b[0m\u001b[37m\u001b[0m \u001b[1m0s\u001b[0m 11ms/step\n"
          ]
        },
        {
          "output_type": "stream",
          "name": "stderr",
          "text": [
            "/usr/local/lib/python3.11/dist-packages/keras/src/layers/core/dense.py:87: UserWarning: Do not pass an `input_shape`/`input_dim` argument to a layer. When using Sequential models, prefer using an `Input(shape)` object as the first layer in the model instead.\n",
            "  super().__init__(activity_regularizer=activity_regularizer, **kwargs)\n",
            "WARNING:tensorflow:5 out of the last 15 calls to <function TensorFlowTrainer.make_predict_function.<locals>.one_step_on_data_distributed at 0x795bc6462ac0> triggered tf.function retracing. Tracing is expensive and the excessive number of tracings could be due to (1) creating @tf.function repeatedly in a loop, (2) passing tensors with different shapes, (3) passing Python objects instead of tensors. For (1), please define your @tf.function outside of the loop. For (2), @tf.function has reduce_retracing=True option that can avoid unnecessary retracing. For (3), please refer to https://www.tensorflow.org/guide/function#controlling_retracing and https://www.tensorflow.org/api_docs/python/tf/function for  more details.\n"
          ]
        },
        {
          "output_type": "stream",
          "name": "stdout",
          "text": [
            "\u001b[1m7/7\u001b[0m \u001b[32m━━━━━━━━━━━━━━━━━━━━\u001b[0m\u001b[37m\u001b[0m \u001b[1m0s\u001b[0m 7ms/step \n"
          ]
        },
        {
          "output_type": "stream",
          "name": "stderr",
          "text": [
            "/usr/local/lib/python3.11/dist-packages/keras/src/layers/core/dense.py:87: UserWarning: Do not pass an `input_shape`/`input_dim` argument to a layer. When using Sequential models, prefer using an `Input(shape)` object as the first layer in the model instead.\n",
            "  super().__init__(activity_regularizer=activity_regularizer, **kwargs)\n"
          ]
        },
        {
          "output_type": "stream",
          "name": "stdout",
          "text": [
            "\u001b[1m7/7\u001b[0m \u001b[32m━━━━━━━━━━━━━━━━━━━━\u001b[0m\u001b[37m\u001b[0m \u001b[1m0s\u001b[0m 7ms/step \n"
          ]
        },
        {
          "output_type": "stream",
          "name": "stderr",
          "text": [
            "/usr/local/lib/python3.11/dist-packages/keras/src/layers/core/dense.py:87: UserWarning: Do not pass an `input_shape`/`input_dim` argument to a layer. When using Sequential models, prefer using an `Input(shape)` object as the first layer in the model instead.\n",
            "  super().__init__(activity_regularizer=activity_regularizer, **kwargs)\n"
          ]
        },
        {
          "output_type": "stream",
          "name": "stdout",
          "text": [
            "\u001b[1m7/7\u001b[0m \u001b[32m━━━━━━━━━━━━━━━━━━━━\u001b[0m\u001b[37m\u001b[0m \u001b[1m0s\u001b[0m 7ms/step \n"
          ]
        },
        {
          "output_type": "stream",
          "name": "stderr",
          "text": [
            "/usr/local/lib/python3.11/dist-packages/keras/src/layers/core/dense.py:87: UserWarning: Do not pass an `input_shape`/`input_dim` argument to a layer. When using Sequential models, prefer using an `Input(shape)` object as the first layer in the model instead.\n",
            "  super().__init__(activity_regularizer=activity_regularizer, **kwargs)\n"
          ]
        },
        {
          "output_type": "stream",
          "name": "stdout",
          "text": [
            "\u001b[1m7/7\u001b[0m \u001b[32m━━━━━━━━━━━━━━━━━━━━\u001b[0m\u001b[37m\u001b[0m \u001b[1m0s\u001b[0m 7ms/step \n"
          ]
        },
        {
          "output_type": "stream",
          "name": "stderr",
          "text": [
            "/usr/local/lib/python3.11/dist-packages/keras/src/layers/core/dense.py:87: UserWarning: Do not pass an `input_shape`/`input_dim` argument to a layer. When using Sequential models, prefer using an `Input(shape)` object as the first layer in the model instead.\n",
            "  super().__init__(activity_regularizer=activity_regularizer, **kwargs)\n"
          ]
        },
        {
          "output_type": "stream",
          "name": "stdout",
          "text": [
            "\u001b[1m7/7\u001b[0m \u001b[32m━━━━━━━━━━━━━━━━━━━━\u001b[0m\u001b[37m\u001b[0m \u001b[1m0s\u001b[0m 7ms/step \n"
          ]
        },
        {
          "output_type": "stream",
          "name": "stderr",
          "text": [
            "/usr/local/lib/python3.11/dist-packages/keras/src/layers/core/dense.py:87: UserWarning: Do not pass an `input_shape`/`input_dim` argument to a layer. When using Sequential models, prefer using an `Input(shape)` object as the first layer in the model instead.\n",
            "  super().__init__(activity_regularizer=activity_regularizer, **kwargs)\n"
          ]
        },
        {
          "output_type": "stream",
          "name": "stdout",
          "text": [
            "\u001b[1m7/7\u001b[0m \u001b[32m━━━━━━━━━━━━━━━━━━━━\u001b[0m\u001b[37m\u001b[0m \u001b[1m0s\u001b[0m 7ms/step \n"
          ]
        },
        {
          "output_type": "stream",
          "name": "stderr",
          "text": [
            "/usr/local/lib/python3.11/dist-packages/keras/src/layers/core/dense.py:87: UserWarning: Do not pass an `input_shape`/`input_dim` argument to a layer. When using Sequential models, prefer using an `Input(shape)` object as the first layer in the model instead.\n",
            "  super().__init__(activity_regularizer=activity_regularizer, **kwargs)\n"
          ]
        },
        {
          "output_type": "stream",
          "name": "stdout",
          "text": [
            "\u001b[1m7/7\u001b[0m \u001b[32m━━━━━━━━━━━━━━━━━━━━\u001b[0m\u001b[37m\u001b[0m \u001b[1m0s\u001b[0m 7ms/step \n"
          ]
        },
        {
          "output_type": "stream",
          "name": "stderr",
          "text": [
            "/usr/local/lib/python3.11/dist-packages/keras/src/layers/core/dense.py:87: UserWarning: Do not pass an `input_shape`/`input_dim` argument to a layer. When using Sequential models, prefer using an `Input(shape)` object as the first layer in the model instead.\n",
            "  super().__init__(activity_regularizer=activity_regularizer, **kwargs)\n"
          ]
        },
        {
          "output_type": "stream",
          "name": "stdout",
          "text": [
            "\u001b[1m7/7\u001b[0m \u001b[32m━━━━━━━━━━━━━━━━━━━━\u001b[0m\u001b[37m\u001b[0m \u001b[1m0s\u001b[0m 10ms/step\n"
          ]
        },
        {
          "output_type": "stream",
          "name": "stderr",
          "text": [
            "/usr/local/lib/python3.11/dist-packages/keras/src/layers/core/dense.py:87: UserWarning: Do not pass an `input_shape`/`input_dim` argument to a layer. When using Sequential models, prefer using an `Input(shape)` object as the first layer in the model instead.\n",
            "  super().__init__(activity_regularizer=activity_regularizer, **kwargs)\n"
          ]
        },
        {
          "output_type": "stream",
          "name": "stdout",
          "text": [
            "\u001b[1m7/7\u001b[0m \u001b[32m━━━━━━━━━━━━━━━━━━━━\u001b[0m\u001b[37m\u001b[0m \u001b[1m0s\u001b[0m 7ms/step \n"
          ]
        },
        {
          "output_type": "stream",
          "name": "stderr",
          "text": [
            "/usr/local/lib/python3.11/dist-packages/keras/src/layers/core/dense.py:87: UserWarning: Do not pass an `input_shape`/`input_dim` argument to a layer. When using Sequential models, prefer using an `Input(shape)` object as the first layer in the model instead.\n",
            "  super().__init__(activity_regularizer=activity_regularizer, **kwargs)\n"
          ]
        },
        {
          "output_type": "stream",
          "name": "stdout",
          "text": [
            "\u001b[1m7/7\u001b[0m \u001b[32m━━━━━━━━━━━━━━━━━━━━\u001b[0m\u001b[37m\u001b[0m \u001b[1m0s\u001b[0m 7ms/step \n"
          ]
        },
        {
          "output_type": "stream",
          "name": "stderr",
          "text": [
            "/usr/local/lib/python3.11/dist-packages/keras/src/layers/core/dense.py:87: UserWarning: Do not pass an `input_shape`/`input_dim` argument to a layer. When using Sequential models, prefer using an `Input(shape)` object as the first layer in the model instead.\n",
            "  super().__init__(activity_regularizer=activity_regularizer, **kwargs)\n"
          ]
        },
        {
          "output_type": "stream",
          "name": "stdout",
          "text": [
            "\u001b[1m7/7\u001b[0m \u001b[32m━━━━━━━━━━━━━━━━━━━━\u001b[0m\u001b[37m\u001b[0m \u001b[1m0s\u001b[0m 7ms/step \n"
          ]
        },
        {
          "output_type": "stream",
          "name": "stderr",
          "text": [
            "/usr/local/lib/python3.11/dist-packages/keras/src/layers/core/dense.py:87: UserWarning: Do not pass an `input_shape`/`input_dim` argument to a layer. When using Sequential models, prefer using an `Input(shape)` object as the first layer in the model instead.\n",
            "  super().__init__(activity_regularizer=activity_regularizer, **kwargs)\n"
          ]
        },
        {
          "output_type": "stream",
          "name": "stdout",
          "text": [
            "\u001b[1m7/7\u001b[0m \u001b[32m━━━━━━━━━━━━━━━━━━━━\u001b[0m\u001b[37m\u001b[0m \u001b[1m0s\u001b[0m 7ms/step \n"
          ]
        },
        {
          "output_type": "stream",
          "name": "stderr",
          "text": [
            "/usr/local/lib/python3.11/dist-packages/keras/src/layers/core/dense.py:87: UserWarning: Do not pass an `input_shape`/`input_dim` argument to a layer. When using Sequential models, prefer using an `Input(shape)` object as the first layer in the model instead.\n",
            "  super().__init__(activity_regularizer=activity_regularizer, **kwargs)\n"
          ]
        },
        {
          "output_type": "stream",
          "name": "stdout",
          "text": [
            "\u001b[1m7/7\u001b[0m \u001b[32m━━━━━━━━━━━━━━━━━━━━\u001b[0m\u001b[37m\u001b[0m \u001b[1m0s\u001b[0m 7ms/step \n"
          ]
        },
        {
          "output_type": "stream",
          "name": "stderr",
          "text": [
            "/usr/local/lib/python3.11/dist-packages/keras/src/layers/core/dense.py:87: UserWarning: Do not pass an `input_shape`/`input_dim` argument to a layer. When using Sequential models, prefer using an `Input(shape)` object as the first layer in the model instead.\n",
            "  super().__init__(activity_regularizer=activity_regularizer, **kwargs)\n"
          ]
        },
        {
          "output_type": "stream",
          "name": "stdout",
          "text": [
            "\u001b[1m7/7\u001b[0m \u001b[32m━━━━━━━━━━━━━━━━━━━━\u001b[0m\u001b[37m\u001b[0m \u001b[1m0s\u001b[0m 7ms/step \n"
          ]
        },
        {
          "output_type": "stream",
          "name": "stderr",
          "text": [
            "/usr/local/lib/python3.11/dist-packages/keras/src/layers/core/dense.py:87: UserWarning: Do not pass an `input_shape`/`input_dim` argument to a layer. When using Sequential models, prefer using an `Input(shape)` object as the first layer in the model instead.\n",
            "  super().__init__(activity_regularizer=activity_regularizer, **kwargs)\n"
          ]
        },
        {
          "output_type": "stream",
          "name": "stdout",
          "text": [
            "\u001b[1m7/7\u001b[0m \u001b[32m━━━━━━━━━━━━━━━━━━━━\u001b[0m\u001b[37m\u001b[0m \u001b[1m0s\u001b[0m 7ms/step \n"
          ]
        },
        {
          "output_type": "stream",
          "name": "stderr",
          "text": [
            "/usr/local/lib/python3.11/dist-packages/keras/src/layers/core/dense.py:87: UserWarning: Do not pass an `input_shape`/`input_dim` argument to a layer. When using Sequential models, prefer using an `Input(shape)` object as the first layer in the model instead.\n",
            "  super().__init__(activity_regularizer=activity_regularizer, **kwargs)\n"
          ]
        },
        {
          "output_type": "stream",
          "name": "stdout",
          "text": [
            "\u001b[1m7/7\u001b[0m \u001b[32m━━━━━━━━━━━━━━━━━━━━\u001b[0m\u001b[37m\u001b[0m \u001b[1m0s\u001b[0m 11ms/step\n"
          ]
        },
        {
          "output_type": "stream",
          "name": "stderr",
          "text": [
            "/usr/local/lib/python3.11/dist-packages/keras/src/layers/core/dense.py:87: UserWarning: Do not pass an `input_shape`/`input_dim` argument to a layer. When using Sequential models, prefer using an `Input(shape)` object as the first layer in the model instead.\n",
            "  super().__init__(activity_regularizer=activity_regularizer, **kwargs)\n"
          ]
        },
        {
          "output_type": "stream",
          "name": "stdout",
          "text": [
            "\u001b[1m7/7\u001b[0m \u001b[32m━━━━━━━━━━━━━━━━━━━━\u001b[0m\u001b[37m\u001b[0m \u001b[1m0s\u001b[0m 8ms/step \n"
          ]
        },
        {
          "output_type": "stream",
          "name": "stderr",
          "text": [
            "/usr/local/lib/python3.11/dist-packages/keras/src/layers/core/dense.py:87: UserWarning: Do not pass an `input_shape`/`input_dim` argument to a layer. When using Sequential models, prefer using an `Input(shape)` object as the first layer in the model instead.\n",
            "  super().__init__(activity_regularizer=activity_regularizer, **kwargs)\n"
          ]
        },
        {
          "output_type": "stream",
          "name": "stdout",
          "text": [
            "\u001b[1m7/7\u001b[0m \u001b[32m━━━━━━━━━━━━━━━━━━━━\u001b[0m\u001b[37m\u001b[0m \u001b[1m0s\u001b[0m 7ms/step \n"
          ]
        },
        {
          "output_type": "stream",
          "name": "stderr",
          "text": [
            "/usr/local/lib/python3.11/dist-packages/keras/src/layers/core/dense.py:87: UserWarning: Do not pass an `input_shape`/`input_dim` argument to a layer. When using Sequential models, prefer using an `Input(shape)` object as the first layer in the model instead.\n",
            "  super().__init__(activity_regularizer=activity_regularizer, **kwargs)\n"
          ]
        },
        {
          "output_type": "stream",
          "name": "stdout",
          "text": [
            "\u001b[1m7/7\u001b[0m \u001b[32m━━━━━━━━━━━━━━━━━━━━\u001b[0m\u001b[37m\u001b[0m \u001b[1m0s\u001b[0m 8ms/step \n"
          ]
        },
        {
          "output_type": "stream",
          "name": "stderr",
          "text": [
            "/usr/local/lib/python3.11/dist-packages/keras/src/layers/core/dense.py:87: UserWarning: Do not pass an `input_shape`/`input_dim` argument to a layer. When using Sequential models, prefer using an `Input(shape)` object as the first layer in the model instead.\n",
            "  super().__init__(activity_regularizer=activity_regularizer, **kwargs)\n"
          ]
        },
        {
          "output_type": "stream",
          "name": "stdout",
          "text": [
            "\u001b[1m7/7\u001b[0m \u001b[32m━━━━━━━━━━━━━━━━━━━━\u001b[0m\u001b[37m\u001b[0m \u001b[1m0s\u001b[0m 7ms/step \n"
          ]
        },
        {
          "output_type": "stream",
          "name": "stderr",
          "text": [
            "/usr/local/lib/python3.11/dist-packages/keras/src/layers/core/dense.py:87: UserWarning: Do not pass an `input_shape`/`input_dim` argument to a layer. When using Sequential models, prefer using an `Input(shape)` object as the first layer in the model instead.\n",
            "  super().__init__(activity_regularizer=activity_regularizer, **kwargs)\n"
          ]
        },
        {
          "output_type": "stream",
          "name": "stdout",
          "text": [
            "\u001b[1m7/7\u001b[0m \u001b[32m━━━━━━━━━━━━━━━━━━━━\u001b[0m\u001b[37m\u001b[0m \u001b[1m0s\u001b[0m 7ms/step \n"
          ]
        },
        {
          "output_type": "stream",
          "name": "stderr",
          "text": [
            "/usr/local/lib/python3.11/dist-packages/keras/src/layers/core/dense.py:87: UserWarning: Do not pass an `input_shape`/`input_dim` argument to a layer. When using Sequential models, prefer using an `Input(shape)` object as the first layer in the model instead.\n",
            "  super().__init__(activity_regularizer=activity_regularizer, **kwargs)\n"
          ]
        },
        {
          "output_type": "stream",
          "name": "stdout",
          "text": [
            "\u001b[1m7/7\u001b[0m \u001b[32m━━━━━━━━━━━━━━━━━━━━\u001b[0m\u001b[37m\u001b[0m \u001b[1m0s\u001b[0m 7ms/step \n"
          ]
        },
        {
          "output_type": "stream",
          "name": "stderr",
          "text": [
            "/usr/local/lib/python3.11/dist-packages/keras/src/layers/core/dense.py:87: UserWarning: Do not pass an `input_shape`/`input_dim` argument to a layer. When using Sequential models, prefer using an `Input(shape)` object as the first layer in the model instead.\n",
            "  super().__init__(activity_regularizer=activity_regularizer, **kwargs)\n"
          ]
        },
        {
          "output_type": "stream",
          "name": "stdout",
          "text": [
            "\u001b[1m7/7\u001b[0m \u001b[32m━━━━━━━━━━━━━━━━━━━━\u001b[0m\u001b[37m\u001b[0m \u001b[1m0s\u001b[0m 7ms/step \n"
          ]
        },
        {
          "output_type": "stream",
          "name": "stderr",
          "text": [
            "/usr/local/lib/python3.11/dist-packages/keras/src/layers/core/dense.py:87: UserWarning: Do not pass an `input_shape`/`input_dim` argument to a layer. When using Sequential models, prefer using an `Input(shape)` object as the first layer in the model instead.\n",
            "  super().__init__(activity_regularizer=activity_regularizer, **kwargs)\n"
          ]
        },
        {
          "output_type": "stream",
          "name": "stdout",
          "text": [
            "\u001b[1m7/7\u001b[0m \u001b[32m━━━━━━━━━━━━━━━━━━━━\u001b[0m\u001b[37m\u001b[0m \u001b[1m0s\u001b[0m 10ms/step\n"
          ]
        },
        {
          "output_type": "stream",
          "name": "stderr",
          "text": [
            "/usr/local/lib/python3.11/dist-packages/keras/src/layers/core/dense.py:87: UserWarning: Do not pass an `input_shape`/`input_dim` argument to a layer. When using Sequential models, prefer using an `Input(shape)` object as the first layer in the model instead.\n",
            "  super().__init__(activity_regularizer=activity_regularizer, **kwargs)\n"
          ]
        },
        {
          "output_type": "stream",
          "name": "stdout",
          "text": [
            "\u001b[1m7/7\u001b[0m \u001b[32m━━━━━━━━━━━━━━━━━━━━\u001b[0m\u001b[37m\u001b[0m \u001b[1m0s\u001b[0m 7ms/step \n"
          ]
        },
        {
          "output_type": "stream",
          "name": "stderr",
          "text": [
            "/usr/local/lib/python3.11/dist-packages/keras/src/layers/core/dense.py:87: UserWarning: Do not pass an `input_shape`/`input_dim` argument to a layer. When using Sequential models, prefer using an `Input(shape)` object as the first layer in the model instead.\n",
            "  super().__init__(activity_regularizer=activity_regularizer, **kwargs)\n"
          ]
        },
        {
          "output_type": "stream",
          "name": "stdout",
          "text": [
            "\u001b[1m7/7\u001b[0m \u001b[32m━━━━━━━━━━━━━━━━━━━━\u001b[0m\u001b[37m\u001b[0m \u001b[1m0s\u001b[0m 7ms/step \n"
          ]
        },
        {
          "output_type": "stream",
          "name": "stderr",
          "text": [
            "/usr/local/lib/python3.11/dist-packages/keras/src/layers/core/dense.py:87: UserWarning: Do not pass an `input_shape`/`input_dim` argument to a layer. When using Sequential models, prefer using an `Input(shape)` object as the first layer in the model instead.\n",
            "  super().__init__(activity_regularizer=activity_regularizer, **kwargs)\n"
          ]
        },
        {
          "output_type": "stream",
          "name": "stdout",
          "text": [
            "\u001b[1m7/7\u001b[0m \u001b[32m━━━━━━━━━━━━━━━━━━━━\u001b[0m\u001b[37m\u001b[0m \u001b[1m0s\u001b[0m 11ms/step\n"
          ]
        },
        {
          "output_type": "stream",
          "name": "stderr",
          "text": [
            "/usr/local/lib/python3.11/dist-packages/keras/src/layers/core/dense.py:87: UserWarning: Do not pass an `input_shape`/`input_dim` argument to a layer. When using Sequential models, prefer using an `Input(shape)` object as the first layer in the model instead.\n",
            "  super().__init__(activity_regularizer=activity_regularizer, **kwargs)\n"
          ]
        },
        {
          "output_type": "stream",
          "name": "stdout",
          "text": [
            "\u001b[1m7/7\u001b[0m \u001b[32m━━━━━━━━━━━━━━━━━━━━\u001b[0m\u001b[37m\u001b[0m \u001b[1m0s\u001b[0m 7ms/step \n",
            "Optimized Energy Prediction: MSE=854.18, R²=-0.91\n",
            "Best parameters from VQE: [66.12400275 32.12285367]\n",
            "Best MSE: 829.8317659116293\n",
            "Optimization Time: 133.50 seconds\n"
          ]
        }
      ]
    },
    {
      "cell_type": "code",
      "source": [
        "!pip install qiskit.algorithms\n",
        "!pip install quantum_optimizer"
      ],
      "metadata": {
        "id": "9b7J4GFvjNAA",
        "outputId": "fda1c39e-8943-41a0-97bf-21885673b4c5",
        "colab": {
          "base_uri": "https://localhost:8080/"
        }
      },
      "execution_count": 51,
      "outputs": [
        {
          "output_type": "stream",
          "name": "stdout",
          "text": [
            "Requirement already satisfied: qiskit.algorithms in /usr/local/lib/python3.11/dist-packages (0.3.1)\n",
            "Requirement already satisfied: qiskit>=0.44 in /usr/local/lib/python3.11/dist-packages (from qiskit.algorithms) (1.3.2)\n",
            "Requirement already satisfied: scipy>=1.4 in /usr/local/lib/python3.11/dist-packages (from qiskit.algorithms) (1.13.1)\n",
            "Requirement already satisfied: numpy>=1.17 in /usr/local/lib/python3.11/dist-packages (from qiskit.algorithms) (1.26.4)\n",
            "Requirement already satisfied: rustworkx>=0.15.0 in /usr/local/lib/python3.11/dist-packages (from qiskit>=0.44->qiskit.algorithms) (0.16.0)\n",
            "Requirement already satisfied: sympy>=1.3 in /usr/local/lib/python3.11/dist-packages (from qiskit>=0.44->qiskit.algorithms) (1.13.1)\n",
            "Requirement already satisfied: dill>=0.3 in /usr/local/lib/python3.11/dist-packages (from qiskit>=0.44->qiskit.algorithms) (0.3.9)\n",
            "Requirement already satisfied: python-dateutil>=2.8.0 in /usr/local/lib/python3.11/dist-packages (from qiskit>=0.44->qiskit.algorithms) (2.8.2)\n",
            "Requirement already satisfied: stevedore>=3.0.0 in /usr/local/lib/python3.11/dist-packages (from qiskit>=0.44->qiskit.algorithms) (5.4.0)\n",
            "Requirement already satisfied: typing-extensions in /usr/local/lib/python3.11/dist-packages (from qiskit>=0.44->qiskit.algorithms) (4.12.2)\n",
            "Requirement already satisfied: symengine<0.14,>=0.11 in /usr/local/lib/python3.11/dist-packages (from qiskit>=0.44->qiskit.algorithms) (0.13.0)\n",
            "Requirement already satisfied: six>=1.5 in /usr/local/lib/python3.11/dist-packages (from python-dateutil>=2.8.0->qiskit>=0.44->qiskit.algorithms) (1.17.0)\n",
            "Requirement already satisfied: pbr>=2.0.0 in /usr/local/lib/python3.11/dist-packages (from stevedore>=3.0.0->qiskit>=0.44->qiskit.algorithms) (6.1.0)\n",
            "Requirement already satisfied: mpmath<1.4,>=1.1.0 in /usr/local/lib/python3.11/dist-packages (from sympy>=1.3->qiskit>=0.44->qiskit.algorithms) (1.3.0)\n",
            "\u001b[31mERROR: Could not find a version that satisfies the requirement quantum_optimizer (from versions: none)\u001b[0m\u001b[31m\n",
            "\u001b[0m\u001b[31mERROR: No matching distribution found for quantum_optimizer\u001b[0m\u001b[31m\n",
            "\u001b[0m"
          ]
        }
      ]
    },
    {
      "cell_type": "code",
      "source": [
        "!pip install qiskit"
      ],
      "metadata": {
        "id": "_Nqxu_p0jjlM",
        "outputId": "89b1b4cc-9371-4c46-de66-8d4fbb7496ad",
        "colab": {
          "base_uri": "https://localhost:8080/"
        }
      },
      "execution_count": 54,
      "outputs": [
        {
          "output_type": "stream",
          "name": "stdout",
          "text": [
            "Requirement already satisfied: qiskit in /usr/local/lib/python3.11/dist-packages (1.3.2)\n",
            "Requirement already satisfied: rustworkx>=0.15.0 in /usr/local/lib/python3.11/dist-packages (from qiskit) (0.16.0)\n",
            "Requirement already satisfied: numpy<3,>=1.17 in /usr/local/lib/python3.11/dist-packages (from qiskit) (1.26.4)\n",
            "Requirement already satisfied: scipy>=1.5 in /usr/local/lib/python3.11/dist-packages (from qiskit) (1.13.1)\n",
            "Requirement already satisfied: sympy>=1.3 in /usr/local/lib/python3.11/dist-packages (from qiskit) (1.13.1)\n",
            "Requirement already satisfied: dill>=0.3 in /usr/local/lib/python3.11/dist-packages (from qiskit) (0.3.9)\n",
            "Requirement already satisfied: python-dateutil>=2.8.0 in /usr/local/lib/python3.11/dist-packages (from qiskit) (2.8.2)\n",
            "Requirement already satisfied: stevedore>=3.0.0 in /usr/local/lib/python3.11/dist-packages (from qiskit) (5.4.0)\n",
            "Requirement already satisfied: typing-extensions in /usr/local/lib/python3.11/dist-packages (from qiskit) (4.12.2)\n",
            "Requirement already satisfied: symengine<0.14,>=0.11 in /usr/local/lib/python3.11/dist-packages (from qiskit) (0.13.0)\n",
            "Requirement already satisfied: six>=1.5 in /usr/local/lib/python3.11/dist-packages (from python-dateutil>=2.8.0->qiskit) (1.17.0)\n",
            "Requirement already satisfied: pbr>=2.0.0 in /usr/local/lib/python3.11/dist-packages (from stevedore>=3.0.0->qiskit) (6.1.0)\n",
            "Requirement already satisfied: mpmath<1.4,>=1.1.0 in /usr/local/lib/python3.11/dist-packages (from sympy>=1.3->qiskit) (1.3.0)\n"
          ]
        }
      ]
    },
    {
      "cell_type": "code",
      "source": [
        "pip install qiskit-optimization\n"
      ],
      "metadata": {
        "id": "-az-P6BWlL-l",
        "outputId": "f7ceffe9-e7ab-4087-e6ed-1a6a85ab24b9",
        "colab": {
          "base_uri": "https://localhost:8080/"
        }
      },
      "execution_count": 60,
      "outputs": [
        {
          "output_type": "stream",
          "name": "stdout",
          "text": [
            "Collecting qiskit-optimization\n",
            "  Downloading qiskit_optimization-0.6.1-py3-none-any.whl.metadata (8.6 kB)\n",
            "Requirement already satisfied: qiskit>=0.44 in /usr/local/lib/python3.11/dist-packages (from qiskit-optimization) (1.3.2)\n",
            "Requirement already satisfied: qiskit-algorithms>=0.2.0 in /usr/local/lib/python3.11/dist-packages (from qiskit-optimization) (0.3.1)\n",
            "Requirement already satisfied: scipy>=1.9.0 in /usr/local/lib/python3.11/dist-packages (from qiskit-optimization) (1.13.1)\n",
            "Requirement already satisfied: numpy>=1.17 in /usr/local/lib/python3.11/dist-packages (from qiskit-optimization) (1.26.4)\n",
            "Collecting docplex!=2.24.231,>=2.21.207 (from qiskit-optimization)\n",
            "  Using cached docplex-2.29.241.tar.gz (645 kB)\n",
            "  Installing build dependencies ... \u001b[?25l\u001b[?25hdone\n",
            "  Getting requirements to build wheel ... \u001b[?25l\u001b[?25hdone\n",
            "  Installing backend dependencies ... \u001b[?25l\u001b[?25hdone\n",
            "  Preparing metadata (pyproject.toml) ... \u001b[?25l\u001b[?25hdone\n",
            "Requirement already satisfied: setuptools>=40.1.0 in /usr/local/lib/python3.11/dist-packages (from qiskit-optimization) (75.1.0)\n",
            "Requirement already satisfied: networkx>=2.6.3 in /usr/local/lib/python3.11/dist-packages (from qiskit-optimization) (3.4.2)\n",
            "Requirement already satisfied: six in /usr/local/lib/python3.11/dist-packages (from docplex!=2.24.231,>=2.21.207->qiskit-optimization) (1.17.0)\n",
            "Requirement already satisfied: rustworkx>=0.15.0 in /usr/local/lib/python3.11/dist-packages (from qiskit>=0.44->qiskit-optimization) (0.16.0)\n",
            "Requirement already satisfied: sympy>=1.3 in /usr/local/lib/python3.11/dist-packages (from qiskit>=0.44->qiskit-optimization) (1.13.1)\n",
            "Requirement already satisfied: dill>=0.3 in /usr/local/lib/python3.11/dist-packages (from qiskit>=0.44->qiskit-optimization) (0.3.9)\n",
            "Requirement already satisfied: python-dateutil>=2.8.0 in /usr/local/lib/python3.11/dist-packages (from qiskit>=0.44->qiskit-optimization) (2.8.2)\n",
            "Requirement already satisfied: stevedore>=3.0.0 in /usr/local/lib/python3.11/dist-packages (from qiskit>=0.44->qiskit-optimization) (5.4.0)\n",
            "Requirement already satisfied: typing-extensions in /usr/local/lib/python3.11/dist-packages (from qiskit>=0.44->qiskit-optimization) (4.12.2)\n",
            "Requirement already satisfied: symengine<0.14,>=0.11 in /usr/local/lib/python3.11/dist-packages (from qiskit>=0.44->qiskit-optimization) (0.13.0)\n",
            "Requirement already satisfied: pbr>=2.0.0 in /usr/local/lib/python3.11/dist-packages (from stevedore>=3.0.0->qiskit>=0.44->qiskit-optimization) (6.1.0)\n",
            "Requirement already satisfied: mpmath<1.4,>=1.1.0 in /usr/local/lib/python3.11/dist-packages (from sympy>=1.3->qiskit>=0.44->qiskit-optimization) (1.3.0)\n",
            "Downloading qiskit_optimization-0.6.1-py3-none-any.whl (167 kB)\n",
            "\u001b[2K   \u001b[90m━━━━━━━━━━━━━━━━━━━━━━━━━━━━━━━━━━━━━━━━\u001b[0m \u001b[32m167.6/167.6 kB\u001b[0m \u001b[31m3.1 MB/s\u001b[0m eta \u001b[36m0:00:00\u001b[0m\n",
            "\u001b[?25hBuilding wheels for collected packages: docplex\n",
            "  Building wheel for docplex (pyproject.toml) ... \u001b[?25l\u001b[?25hdone\n",
            "  Created wheel for docplex: filename=docplex-2.29.241-py3-none-any.whl size=685423 sha256=771174d6d29e325de3d25caf27819e560a400d8885f5a93180ec06b83b32a690\n",
            "  Stored in directory: /root/.cache/pip/wheels/00/4f/37/fbc42df1f9b6786024d4b39c81f0b373c84e6fab9e18513fc2\n",
            "Successfully built docplex\n",
            "Installing collected packages: docplex, qiskit-optimization\n",
            "Successfully installed docplex-2.29.241 qiskit-optimization-0.6.1\n"
          ]
        }
      ]
    },
    {
      "cell_type": "code",
      "source": [
        "!pip install qiskit==0.39.0\n",
        "\n"
      ],
      "metadata": {
        "id": "vTVCxoFznitI",
        "outputId": "83ce1a85-a2dc-4c45-d5a3-26784e1e9f0e",
        "colab": {
          "base_uri": "https://localhost:8080/"
        }
      },
      "execution_count": 77,
      "outputs": [
        {
          "output_type": "stream",
          "name": "stdout",
          "text": [
            "Collecting qiskit==0.39.0\n",
            "  Using cached qiskit-0.39.0.tar.gz (13 kB)\n",
            "  Preparing metadata (setup.py) ... \u001b[?25l\u001b[?25hdone\n",
            "Collecting qiskit-terra==0.22.0 (from qiskit==0.39.0)\n",
            "  Using cached qiskit-terra-0.22.0.tar.gz (4.6 MB)\n",
            "  Installing build dependencies ... \u001b[?25l\u001b[?25hdone\n",
            "  Getting requirements to build wheel ... \u001b[?25l\u001b[?25hdone\n",
            "  Preparing metadata (pyproject.toml) ... \u001b[?25l\u001b[?25hdone\n",
            "Collecting qiskit-aer==0.11.0 (from qiskit==0.39.0)\n",
            "  Using cached qiskit-aer-0.11.0.tar.gz (6.5 MB)\n",
            "  Installing build dependencies ... \u001b[?25l\u001b[?25hdone\n",
            "  \u001b[1;31merror\u001b[0m: \u001b[1msubprocess-exited-with-error\u001b[0m\n",
            "  \n",
            "  \u001b[31m×\u001b[0m \u001b[32mGetting requirements to build wheel\u001b[0m did not run successfully.\n",
            "  \u001b[31m│\u001b[0m exit code: \u001b[1;36m1\u001b[0m\n",
            "  \u001b[31m╰─>\u001b[0m See above for output.\n",
            "  \n",
            "  \u001b[1;35mnote\u001b[0m: This error originates from a subprocess, and is likely not a problem with pip.\n",
            "  Getting requirements to build wheel ... \u001b[?25l\u001b[?25herror\n",
            "\u001b[1;31merror\u001b[0m: \u001b[1msubprocess-exited-with-error\u001b[0m\n",
            "\n",
            "\u001b[31m×\u001b[0m \u001b[32mGetting requirements to build wheel\u001b[0m did not run successfully.\n",
            "\u001b[31m│\u001b[0m exit code: \u001b[1;36m1\u001b[0m\n",
            "\u001b[31m╰─>\u001b[0m See above for output.\n",
            "\n",
            "\u001b[1;35mnote\u001b[0m: This error originates from a subprocess, and is likely not a problem with pip.\n"
          ]
        }
      ]
    },
    {
      "cell_type": "code",
      "source": [
        "!pip install qiskit-algorithms==0.3.1\n",
        "!pip install qiskit-optimization==0.6.1\n"
      ],
      "metadata": {
        "id": "sXX8fffSo946",
        "outputId": "7e657cb6-435a-40be-e802-a445df64a2b1",
        "colab": {
          "base_uri": "https://localhost:8080/"
        }
      },
      "execution_count": 75,
      "outputs": [
        {
          "output_type": "stream",
          "name": "stdout",
          "text": [
            "Requirement already satisfied: qiskit-algorithms==0.3.1 in /usr/local/lib/python3.11/dist-packages (0.3.1)\n",
            "Requirement already satisfied: qiskit>=0.44 in /usr/local/lib/python3.11/dist-packages (from qiskit-algorithms==0.3.1) (1.3.2)\n",
            "Requirement already satisfied: scipy>=1.4 in /usr/local/lib/python3.11/dist-packages (from qiskit-algorithms==0.3.1) (1.13.1)\n",
            "Requirement already satisfied: numpy>=1.17 in /usr/local/lib/python3.11/dist-packages (from qiskit-algorithms==0.3.1) (1.26.4)\n",
            "Requirement already satisfied: rustworkx>=0.15.0 in /usr/local/lib/python3.11/dist-packages (from qiskit>=0.44->qiskit-algorithms==0.3.1) (0.16.0)\n",
            "Requirement already satisfied: sympy>=1.3 in /usr/local/lib/python3.11/dist-packages (from qiskit>=0.44->qiskit-algorithms==0.3.1) (1.13.1)\n",
            "Requirement already satisfied: dill>=0.3 in /usr/local/lib/python3.11/dist-packages (from qiskit>=0.44->qiskit-algorithms==0.3.1) (0.3.9)\n",
            "Requirement already satisfied: python-dateutil>=2.8.0 in /usr/local/lib/python3.11/dist-packages (from qiskit>=0.44->qiskit-algorithms==0.3.1) (2.8.2)\n",
            "Requirement already satisfied: stevedore>=3.0.0 in /usr/local/lib/python3.11/dist-packages (from qiskit>=0.44->qiskit-algorithms==0.3.1) (5.4.0)\n",
            "Requirement already satisfied: typing-extensions in /usr/local/lib/python3.11/dist-packages (from qiskit>=0.44->qiskit-algorithms==0.3.1) (4.12.2)\n",
            "Requirement already satisfied: symengine<0.14,>=0.11 in /usr/local/lib/python3.11/dist-packages (from qiskit>=0.44->qiskit-algorithms==0.3.1) (0.13.0)\n",
            "Requirement already satisfied: six>=1.5 in /usr/local/lib/python3.11/dist-packages (from python-dateutil>=2.8.0->qiskit>=0.44->qiskit-algorithms==0.3.1) (1.17.0)\n",
            "Requirement already satisfied: pbr>=2.0.0 in /usr/local/lib/python3.11/dist-packages (from stevedore>=3.0.0->qiskit>=0.44->qiskit-algorithms==0.3.1) (6.1.0)\n",
            "Requirement already satisfied: mpmath<1.4,>=1.1.0 in /usr/local/lib/python3.11/dist-packages (from sympy>=1.3->qiskit>=0.44->qiskit-algorithms==0.3.1) (1.3.0)\n",
            "Requirement already satisfied: qiskit-optimization==0.6.1 in /usr/local/lib/python3.11/dist-packages (0.6.1)\n",
            "Requirement already satisfied: qiskit>=0.44 in /usr/local/lib/python3.11/dist-packages (from qiskit-optimization==0.6.1) (1.3.2)\n",
            "Requirement already satisfied: qiskit-algorithms>=0.2.0 in /usr/local/lib/python3.11/dist-packages (from qiskit-optimization==0.6.1) (0.3.1)\n",
            "Requirement already satisfied: scipy>=1.9.0 in /usr/local/lib/python3.11/dist-packages (from qiskit-optimization==0.6.1) (1.13.1)\n",
            "Requirement already satisfied: numpy>=1.17 in /usr/local/lib/python3.11/dist-packages (from qiskit-optimization==0.6.1) (1.26.4)\n",
            "Requirement already satisfied: docplex!=2.24.231,>=2.21.207 in /usr/local/lib/python3.11/dist-packages (from qiskit-optimization==0.6.1) (2.29.241)\n",
            "Requirement already satisfied: setuptools>=40.1.0 in /usr/local/lib/python3.11/dist-packages (from qiskit-optimization==0.6.1) (75.1.0)\n",
            "Requirement already satisfied: networkx>=2.6.3 in /usr/local/lib/python3.11/dist-packages (from qiskit-optimization==0.6.1) (3.4.2)\n",
            "Requirement already satisfied: six in /usr/local/lib/python3.11/dist-packages (from docplex!=2.24.231,>=2.21.207->qiskit-optimization==0.6.1) (1.17.0)\n",
            "Requirement already satisfied: rustworkx>=0.15.0 in /usr/local/lib/python3.11/dist-packages (from qiskit>=0.44->qiskit-optimization==0.6.1) (0.16.0)\n",
            "Requirement already satisfied: sympy>=1.3 in /usr/local/lib/python3.11/dist-packages (from qiskit>=0.44->qiskit-optimization==0.6.1) (1.13.1)\n",
            "Requirement already satisfied: dill>=0.3 in /usr/local/lib/python3.11/dist-packages (from qiskit>=0.44->qiskit-optimization==0.6.1) (0.3.9)\n",
            "Requirement already satisfied: python-dateutil>=2.8.0 in /usr/local/lib/python3.11/dist-packages (from qiskit>=0.44->qiskit-optimization==0.6.1) (2.8.2)\n",
            "Requirement already satisfied: stevedore>=3.0.0 in /usr/local/lib/python3.11/dist-packages (from qiskit>=0.44->qiskit-optimization==0.6.1) (5.4.0)\n",
            "Requirement already satisfied: typing-extensions in /usr/local/lib/python3.11/dist-packages (from qiskit>=0.44->qiskit-optimization==0.6.1) (4.12.2)\n",
            "Requirement already satisfied: symengine<0.14,>=0.11 in /usr/local/lib/python3.11/dist-packages (from qiskit>=0.44->qiskit-optimization==0.6.1) (0.13.0)\n",
            "Requirement already satisfied: pbr>=2.0.0 in /usr/local/lib/python3.11/dist-packages (from stevedore>=3.0.0->qiskit>=0.44->qiskit-optimization==0.6.1) (6.1.0)\n",
            "Requirement already satisfied: mpmath<1.4,>=1.1.0 in /usr/local/lib/python3.11/dist-packages (from sympy>=1.3->qiskit>=0.44->qiskit-optimization==0.6.1) (1.3.0)\n"
          ]
        }
      ]
    },
    {
      "cell_type": "code",
      "source": [
        "import pandas as pd\n",
        "import numpy as np\n",
        "from sklearn.model_selection import train_test_split\n",
        "from sklearn.ensemble import RandomForestRegressor\n",
        "from sklearn.metrics import mean_squared_error, r2_score\n",
        "from qiskit_algorithms import VQE\n",
        "from qiskit.circuit.library import RealAmplitudes\n",
        "from qiskit_algorithms.optimizers import COBYLA\n",
        "from qiskit.providers.aer import AerSimulator  # تعديل لاستبدال Aer بـ AerSimulator\n",
        "import time\n",
        "\n",
        "# قراءة البيانات\n",
        "data = pd.read_csv(\"/content/carbon_capture_1000_rows.csv\")\n",
        "\n",
        "# الميزات (Features) والنتائج المستهدفة (Targets)\n",
        "X = data[[\"Pressure\", \"Temperature\", \"Gas_Flow_Rate\"]]\n",
        "y_energy = data[\"Energy_Consumption\"]\n",
        "y_efficiency = data[\"CO2_Capture_Efficiency\"]\n",
        "\n",
        "# تقسيم البيانات إلى تدريب واختبار\n",
        "X_train, X_test, y_train_energy, y_test_energy = train_test_split(X, y_energy, test_size=0.2, random_state=42)\n",
        "_, _, y_train_efficiency, y_test_efficiency = train_test_split(X, y_efficiency, test_size=0.2, random_state=42)\n",
        "\n",
        "print(\"Done\")\n",
        "print(\"Training AI (Random Forest)...\")\n",
        "start_ai = time.time()\n",
        "\n",
        "# نموذج لتوقع استهلاك الطاقة\n",
        "rf_energy = RandomForestRegressor(n_estimators=100, random_state=42)\n",
        "rf_energy.fit(X_train, y_train_energy)\n",
        "\n",
        "# نموذج لتوقع كفاءة الالتقاط\n",
        "rf_efficiency = RandomForestRegressor(n_estimators=100, random_state=42)\n",
        "rf_efficiency.fit(X_train, y_train_efficiency)\n",
        "\n",
        "end_ai = time.time()\n",
        "\n",
        "# توقع القيم\n",
        "y_pred_energy_ai = rf_energy.predict(X_test)\n",
        "y_pred_efficiency_ai = rf_efficiency.predict(X_test)\n",
        "\n",
        "# دقة النموذج\n",
        "energy_mse_ai = mean_squared_error(y_test_energy, y_pred_energy_ai)\n",
        "efficiency_mse_ai = mean_squared_error(y_test_efficiency, y_pred_efficiency_ai)\n",
        "r2_energy_ai = r2_score(y_test_energy, y_pred_energy_ai)\n",
        "r2_efficiency_ai = r2_score(y_test_efficiency, y_pred_efficiency_ai)\n",
        "\n",
        "print(f\"Energy Prediction: MSE={energy_mse_ai:.2f}, R²={r2_energy_ai:.2f}\")\n",
        "print(f\"Efficiency Prediction: MSE={efficiency_mse_ai:.2f}, R²={r2_efficiency_ai:.2f}\")\n",
        "print(f\"Training Time: {end_ai - start_ai:.2f} seconds\")\n",
        "\n",
        "# تحسين معلمات Random Forest باستخدام VQE كمحسن\n",
        "from qiskit.algorithms.optimizers import COBYLA\n",
        "from qiskit.circuit.library import RealAmplitudes\n",
        "from qiskit.providers.aer import AerSimulator  # تعديل لاستبدال Aer بـ AerSimulator\n",
        "\n",
        "# دالة لقياس الأداء\n",
        "def evaluate_rf(params):\n",
        "    n_estimators = int(params[0])  # عدد الأشجار\n",
        "    max_depth = int(params[1])  # عمق الأشجار\n",
        "    rf_model = RandomForestRegressor(n_estimators=n_estimators, max_depth=max_depth, random_state=42)\n",
        "    rf_model.fit(X_train, y_train_energy)  # تدريب النموذج\n",
        "    y_pred = rf_model.predict(X_test)  # التنبؤ\n",
        "    mse = mean_squared_error(y_test_energy, y_pred)  # حساب MSE\n",
        "    return mse\n",
        "\n",
        "# إعداد المحسن (VQE)\n",
        "start_ai = time.time()\n",
        "\n",
        "optimizer = COBYLA()\n",
        "\n",
        "# بدء التحسين باستخدام VQE\n",
        "params = [50, 10]  # المعلمات الأولية (عدد الأشجار، العمق)\n",
        "vqe_result = optimizer.minimize(evaluate_rf, x0=params)  # استخدم x0 بدلاً من initial_point\n",
        "end_ai = time.time()\n",
        "\n",
        "# تدريب نموذج Random Forest\n",
        "rf_model = RandomForestRegressor(n_estimators=int(vqe_result.x[0]), max_depth=int(vqe_result.x[1]), random_state=42)\n",
        "rf_model.fit(X_train, y_train_energy)\n",
        "\n",
        "# التنبؤ وحساب MSE و R²\n",
        "y_pred_rf = rf_model.predict(X_test)\n",
        "energy_mse_rf = mean_squared_error(y_test_energy, y_pred_rf)\n",
        "r2_energy_rf = r2_score(y_test_energy, y_pred_rf)\n",
        "\n",
        "# طباعة النتائج\n",
        "print(f\"Energy Prediction: MSE={energy_mse_rf:.2f}, R²={r2_energy_rf:.2f}\")\n",
        "print(f\"Efficiency Prediction: MSE={energy_mse_rf:.2f}, R²={r2_energy_rf:.2f}\")  # تعديل لطباعته بخصوص الكفاءة\n",
        "\n",
        "print(f\"Best parameters from VQE: {vqe_result.x}\")\n",
        "print(f\"Best MSE: {vqe_result.fun}\")\n"
      ],
      "metadata": {
        "id": "i0ZDoHYiph5r",
        "outputId": "cc307fc8-108a-4022-cb2f-76444907f9f2",
        "colab": {
          "base_uri": "https://localhost:8080/",
          "height": 383
        }
      },
      "execution_count": 81,
      "outputs": [
        {
          "output_type": "error",
          "ename": "ModuleNotFoundError",
          "evalue": "No module named 'qiskit.providers.aer'",
          "traceback": [
            "\u001b[0;31m---------------------------------------------------------------------------\u001b[0m",
            "\u001b[0;31mModuleNotFoundError\u001b[0m                       Traceback (most recent call last)",
            "\u001b[0;32m<ipython-input-81-c9eb032af66b>\u001b[0m in \u001b[0;36m<cell line: 0>\u001b[0;34m()\u001b[0m\n\u001b[1;32m      7\u001b[0m \u001b[0;32mfrom\u001b[0m \u001b[0mqiskit\u001b[0m\u001b[0;34m.\u001b[0m\u001b[0mcircuit\u001b[0m\u001b[0;34m.\u001b[0m\u001b[0mlibrary\u001b[0m \u001b[0;32mimport\u001b[0m \u001b[0mRealAmplitudes\u001b[0m\u001b[0;34m\u001b[0m\u001b[0;34m\u001b[0m\u001b[0m\n\u001b[1;32m      8\u001b[0m \u001b[0;32mfrom\u001b[0m \u001b[0mqiskit_algorithms\u001b[0m\u001b[0;34m.\u001b[0m\u001b[0moptimizers\u001b[0m \u001b[0;32mimport\u001b[0m \u001b[0mCOBYLA\u001b[0m\u001b[0;34m\u001b[0m\u001b[0;34m\u001b[0m\u001b[0m\n\u001b[0;32m----> 9\u001b[0;31m \u001b[0;32mfrom\u001b[0m \u001b[0mqiskit\u001b[0m\u001b[0;34m.\u001b[0m\u001b[0mproviders\u001b[0m\u001b[0;34m.\u001b[0m\u001b[0maer\u001b[0m \u001b[0;32mimport\u001b[0m \u001b[0mAerSimulator\u001b[0m  \u001b[0;31m# تعديل لاستبدال Aer بـ AerSimulator\u001b[0m\u001b[0;34m\u001b[0m\u001b[0;34m\u001b[0m\u001b[0m\n\u001b[0m\u001b[1;32m     10\u001b[0m \u001b[0;32mimport\u001b[0m \u001b[0mtime\u001b[0m\u001b[0;34m\u001b[0m\u001b[0;34m\u001b[0m\u001b[0m\n\u001b[1;32m     11\u001b[0m \u001b[0;34m\u001b[0m\u001b[0m\n",
            "\u001b[0;31mModuleNotFoundError\u001b[0m: No module named 'qiskit.providers.aer'",
            "",
            "\u001b[0;31m---------------------------------------------------------------------------\u001b[0;32m\nNOTE: If your import is failing due to a missing package, you can\nmanually install dependencies using either !pip or !apt.\n\nTo view examples of installing some common dependencies, click the\n\"Open Examples\" button below.\n\u001b[0;31m---------------------------------------------------------------------------\u001b[0m\n"
          ],
          "errorDetails": {
            "actions": [
              {
                "action": "open_url",
                "actionText": "Open Examples",
                "url": "/notebooks/snippets/importing_libraries.ipynb"
              }
            ]
          }
        }
      ]
    },
    {
      "cell_type": "code",
      "source": [
        "import pandas as pd\n",
        "import numpy as np\n",
        "from sklearn.model_selection import train_test_split\n",
        "from sklearn.ensemble import RandomForestRegressor\n",
        "from sklearn.metrics import mean_squared_error, r2_score\n",
        "from qiskit_aer import Aer\n",
        "from qiskit_algorithms import VQE\n",
        "from qiskit.circuit.library import RealAmplitudes\n",
        "from qiskit.algorithms.optimizers import COBYLA\n",
        "from qiskit_providers.aer import AerSimulator  # تعديل لاستبدال Aer بـ AerSimulator\n",
        "import time\n",
        "\n",
        "# قراءة البيانات\n",
        "data = pd.read_csv(\"/content/carbon_capture_1000_rows.csv\")\n",
        "\n",
        "# الميزات (Features) والنتائج المستهدفة (Targets)\n",
        "X = data[[\"Pressure\", \"Temperature\", \"Gas_Flow_Rate\"]]\n",
        "y_energy = data[\"Energy_Consumption\"]\n",
        "y_efficiency = data[\"CO2_Capture_Efficiency\"]\n",
        "\n",
        "# تقسيم البيانات إلى تدريب واختبار\n",
        "X_train, X_test, y_train_energy, y_test_energy = train_test_split(X, y_energy, test_size=0.2, random_state=42)\n",
        "_, _, y_train_efficiency, y_test_efficiency = train_test_split(X, y_efficiency, test_size=0.2, random_state=42)\n",
        "\n",
        "# تدريب نموذج Random Forest لتنبؤ استهلاك الطاقة\n",
        "rf_energy = RandomForestRegressor(n_estimators=100, random_state=42)\n",
        "rf_energy.fit(X_train, y_train_energy)\n",
        "\n",
        "# تدريب نموذج Random Forest لتنبؤ كفاءة الالتقاط\n",
        "rf_efficiency = RandomForestRegressor(n_estimators=100, random_state=42)\n",
        "rf_efficiency.fit(X_train, y_train_efficiency)\n",
        "\n",
        "# التنبؤ بالقيم\n",
        "y_pred_energy_ai = rf_energy.predict(X_test)\n",
        "y_pred_efficiency_ai = rf_efficiency.predict(X_test)\n",
        "\n",
        "# دقة النموذج\n",
        "energy_mse_ai = mean_squared_error(y_test_energy, y_pred_energy_ai)\n",
        "efficiency_mse_ai = mean_squared_error(y_test_efficiency, y_pred_efficiency_ai)\n",
        "r2_energy_ai = r2_score(y_test_energy, y_pred_energy_ai)\n",
        "r2_efficiency_ai = r2_score(y_test_efficiency, y_pred_efficiency_ai)\n",
        "\n",
        "# عرض نتائج نموذج AI التقليدي\n",
        "print(f\"Energy Prediction (AI): MSE={energy_mse_ai:.2f}, R²={r2_energy_ai:.2f}\")\n",
        "print(f\"Efficiency Prediction (AI): MSE={efficiency_mse_ai:.2f}, R²={r2_efficiency_ai:.2f}\")\n",
        "\n",
        "# دالة لتحسين معلمات Random Forest باستخدام VQE\n",
        "def quantum_optimizer(params):\n",
        "    n_estimators = int(params[0])  # عدد الأشجار\n",
        "    max_depth = int(params[1])  # عمق الأشجار\n",
        "    rf_model = RandomForestRegressor(n_estimators=n_estimators, max_depth=max_depth, random_state=42)\n",
        "    rf_model.fit(X_train, y_train_energy)  # تدريب النموذج\n",
        "    y_pred = rf_model.predict(X_test)  # التنبؤ\n",
        "    mse = mean_squared_error(y_test_energy, y_pred)  # حساب MSE\n",
        "    return mse\n",
        "\n",
        "# إعداد المحسن الكمومي\n",
        "optimizer = COBYLA()\n",
        "initial_params = [50, 10]  # المعلمات الأولية\n",
        "\n",
        "# إعداد محاكي الكم\n",
        "simulator = AerSimulator()  # استخدام المحاكي الكمومي\n",
        "\n",
        "# استخدام VQE لتحسين المعلمات\n",
        "start_ai = time.time()\n",
        "vqe_algorithm = VQE(optimizer, var_form=RealAmplitudes(num_qubits=2), optimizer=COBYLA(), quantum_instance=simulator)\n",
        "vqe_result = vqe_algorithm.compute_minimum_eigenvalue(quantum_optimizer)\n",
        "end_ai = time.time()\n",
        "\n",
        "# أفضل المعلمات من VQE\n",
        "best_params = vqe_result.optimal_point\n",
        "\n",
        "# تدريب نموذج باستخدام المعلمات المحسنة من VQE\n",
        "rf_model = RandomForestRegressor(n_estimators=int(best_params[0]), max_depth=int(best_params[1]), random_state=42)\n",
        "rf_model.fit(X_train, y_train_energy)\n",
        "\n",
        "# التنبؤ وحساب MSE و R² بعد التحسين باستخدام VQE\n",
        "y_pred_rf = rf_model.predict(X_test)\n",
        "energy_mse_rf = mean_squared_error(y_test_energy, y_pred_rf)\n",
        "r2_energy_rf = r2_score(y_test_energy, y_pred_rf)\n",
        "\n",
        "# عرض نتائج التحسين باستخدام VQE\n",
        "print(f\"Best parameters from VQE: {best_params}\")\n",
        "print(f\"Energy Prediction (Quantum Optimization): MSE={energy_mse_rf:.2f}, R²={r2_energy_rf:.2f}\")\n",
        "print(f\"Training Time: {end_ai - start_ai:.2f} seconds\")\n"
      ],
      "metadata": {
        "id": "6Of_uWwyhbks",
        "outputId": "0bdd5442-6d8c-485e-ba5c-100dfb7393d7",
        "colab": {
          "base_uri": "https://localhost:8080/",
          "height": 383
        }
      },
      "execution_count": 76,
      "outputs": [
        {
          "output_type": "error",
          "ename": "ModuleNotFoundError",
          "evalue": "No module named 'qiskit.algorithms'",
          "traceback": [
            "\u001b[0;31m---------------------------------------------------------------------------\u001b[0m",
            "\u001b[0;31mModuleNotFoundError\u001b[0m                       Traceback (most recent call last)",
            "\u001b[0;32m<ipython-input-76-15c9c99480af>\u001b[0m in \u001b[0;36m<cell line: 0>\u001b[0;34m()\u001b[0m\n\u001b[1;32m      7\u001b[0m \u001b[0;32mfrom\u001b[0m \u001b[0mqiskit_algorithms\u001b[0m \u001b[0;32mimport\u001b[0m \u001b[0mVQE\u001b[0m\u001b[0;34m\u001b[0m\u001b[0;34m\u001b[0m\u001b[0m\n\u001b[1;32m      8\u001b[0m \u001b[0;32mfrom\u001b[0m \u001b[0mqiskit\u001b[0m\u001b[0;34m.\u001b[0m\u001b[0mcircuit\u001b[0m\u001b[0;34m.\u001b[0m\u001b[0mlibrary\u001b[0m \u001b[0;32mimport\u001b[0m \u001b[0mRealAmplitudes\u001b[0m\u001b[0;34m\u001b[0m\u001b[0;34m\u001b[0m\u001b[0m\n\u001b[0;32m----> 9\u001b[0;31m \u001b[0;32mfrom\u001b[0m \u001b[0mqiskit\u001b[0m\u001b[0;34m.\u001b[0m\u001b[0malgorithms\u001b[0m\u001b[0;34m.\u001b[0m\u001b[0moptimizers\u001b[0m \u001b[0;32mimport\u001b[0m \u001b[0mCOBYLA\u001b[0m\u001b[0;34m\u001b[0m\u001b[0;34m\u001b[0m\u001b[0m\n\u001b[0m\u001b[1;32m     10\u001b[0m \u001b[0;32mfrom\u001b[0m \u001b[0mqiskit_providers\u001b[0m\u001b[0;34m.\u001b[0m\u001b[0maer\u001b[0m \u001b[0;32mimport\u001b[0m \u001b[0mAerSimulator\u001b[0m  \u001b[0;31m# تعديل لاستبدال Aer بـ AerSimulator\u001b[0m\u001b[0;34m\u001b[0m\u001b[0;34m\u001b[0m\u001b[0m\n\u001b[1;32m     11\u001b[0m \u001b[0;32mimport\u001b[0m \u001b[0mtime\u001b[0m\u001b[0;34m\u001b[0m\u001b[0;34m\u001b[0m\u001b[0m\n",
            "\u001b[0;31mModuleNotFoundError\u001b[0m: No module named 'qiskit.algorithms'",
            "",
            "\u001b[0;31m---------------------------------------------------------------------------\u001b[0;32m\nNOTE: If your import is failing due to a missing package, you can\nmanually install dependencies using either !pip or !apt.\n\nTo view examples of installing some common dependencies, click the\n\"Open Examples\" button below.\n\u001b[0;31m---------------------------------------------------------------------------\u001b[0m\n"
          ],
          "errorDetails": {
            "actions": [
              {
                "action": "open_url",
                "actionText": "Open Examples",
                "url": "/notebooks/snippets/importing_libraries.ipynb"
              }
            ]
          }
        }
      ]
    },
    {
      "cell_type": "code",
      "source": [
        "!pip show qiskit\n"
      ],
      "metadata": {
        "id": "5j5Th1Wgh84g",
        "outputId": "22cb04d1-aa36-4c95-97e7-23ce0780c050",
        "colab": {
          "base_uri": "https://localhost:8080/"
        }
      },
      "execution_count": 69,
      "outputs": [
        {
          "output_type": "stream",
          "name": "stdout",
          "text": [
            "Name: qiskit\n",
            "Version: 1.3.2\n",
            "Summary: An open-source SDK for working with quantum computers at the level of extended quantum circuits, operators, and primitives.\n",
            "Home-page: https://www.ibm.com/quantum/qiskit\n",
            "Author: \n",
            "Author-email: Qiskit Development Team <qiskit@us.ibm.com>\n",
            "License: Apache 2.0\n",
            "Location: /usr/local/lib/python3.11/dist-packages\n",
            "Requires: dill, numpy, python-dateutil, rustworkx, scipy, stevedore, symengine, sympy, typing-extensions\n",
            "Required-by: qiskit-aer, qiskit-algorithms, qiskit-machine-learning, qiskit-optimization\n"
          ]
        }
      ]
    },
    {
      "cell_type": "markdown",
      "metadata": {
        "id": "da8NOLsZqLsU"
      },
      "source": [
        "## Before you begin\n",
        "\n",
        "*  First, decide whether you want to [create a new Google Cloud Platform project](https://cloud.google.com/docs/overview/), or use an existing one.\n",
        "*  Follow this link to [**enable the Quantum Engine API**](https://console.cloud.google.com/apis/library/quantum.googleapis.com?returnUrl=quantum) in your Google Cloud Platform project.\n",
        "\n",
        "After the API is enabled, you should be redirected to the [Quantum Engine console](https://console.cloud.google.com/quantum) and it should look like the following screenshot.\n",
        "\n",
        "![Quantum Engine landing](https://raw.githubusercontent.com/quantumlib/Cirq/main/docs/images/console-landing.png)\n",
        "\n",
        "**Enter your project id into the input text box below**. To find your project id, click on the project menu in the blue bar at the top of the console. This will open a menu that displays your project name (e.g. \"My project\") and unique **project id** (e.g. my-project-1234). Enter the **project id** into the input below. ([Help on finding your project id](https://cloud.google.com/resource-manager/docs/creating-managing-projects#identifying_projects).)\n",
        "\n",
        "![Find project id](https://raw.githubusercontent.com/quantumlib/Cirq/main/docs/images/console-project-id.png)\n",
        "\n",
        "**Run the code in the next block (the one with the text box)**, which will prompt you to authenticate Google Cloud SDK to use your project.  After running the block, you will see a link which you should click.  This will open a new browser window.  Follow the authentication flow for this window.  If you see \"Authentication complete\" you have done this step successfully. Contact your partner in the Quantum Hardware Residency Program if you encounter issues at this stage.\n",
        "\n",
        "![Run code block below](https://raw.githubusercontent.com/quantumlib/Cirq/main/docs/images/run-code-block.png)"
      ]
    },
    {
      "cell_type": "code",
      "execution_count": null,
      "metadata": {
        "id": "YoqI9GrOPExP"
      },
      "outputs": [],
      "source": [
        "# The Google Cloud Project id to use.\n",
        "project_id = \"\" #@param {type:\"string\"}\n",
        "\n",
        "from cirq_google.engine import get_engine\n",
        "from cirq_google.engine.qcs_notebook import authenticate_user\n",
        "\n",
        "authenticate_user()\n",
        "try:\n",
        "  engine = get_engine(project_id)\n",
        "except Exception:\n",
        "  from cirq_google.engine.qcs_notebook import get_qcs_objects_for_notebook\n",
        "  print(\"Unable to connect to a hardware engine. Using a virtual instance instead.\")\n",
        "  qcs_objects = get_qcs_objects_for_notebook(project_id, virtual=True)\n",
        "  engine = qcs_objects.engine"
      ]
    },
    {
      "cell_type": "markdown",
      "metadata": {
        "id": "ocy3JossWU57"
      },
      "source": [
        "**Authentication details**\n",
        "\n",
        "Double clicking on the project_id block above will expose the code that is run when you run this code block.  This code ensures that *Application Default Credentials* are set and can be used in Cirq to authenticate your calls to Quantum Engine.\n",
        "\n",
        "If you are going to run code outside of colab and want to authenticate, see the below section on running from the command-line."
      ]
    },
    {
      "cell_type": "markdown",
      "metadata": {
        "id": "47n3bsx3Nl9g"
      },
      "source": [
        "## Create a circuit\n",
        "Now, let's create a basic program with Cirq. After reviewing the code, **run this block** to run a circuit, and print a circuit diagram and results. To learn more, refer to the [Cirq overview](https://quantumai.google/cirq) and [Cirq basics](https://quantumai.google/cirq/start/basics) pages."
      ]
    },
    {
      "cell_type": "code",
      "execution_count": null,
      "metadata": {
        "cellView": "both",
        "id": "EQoTYZIEPa9S",
        "outputId": "beb04676-8404-4831-8d40-3291ee2d6127",
        "colab": {
          "base_uri": "https://localhost:8080/"
        }
      },
      "outputs": [
        {
          "output_type": "stream",
          "name": "stdout",
          "text": [
            "Circuit:\n",
            "(0, 0): ───X───M('result')───\n"
          ]
        }
      ],
      "source": [
        "# Define a qubit at an arbitrary grid location.\n",
        "qubit = cirq.GridQubit(0, 0)\n",
        "\n",
        "# Create a circuit (qubits start in the |0> state).\n",
        "circuit = cirq.Circuit(\n",
        "    cirq.X(qubit),                     # NOT gate.\n",
        "    cirq.measure(qubit, key='result')  # Measurement.\n",
        ")\n",
        "\n",
        "print(\"Circuit:\")\n",
        "print(circuit)"
      ]
    },
    {
      "cell_type": "markdown",
      "metadata": {
        "id": "BJIWCdhKgVo7"
      },
      "source": [
        "## Simulate the circuit using Cirq\n",
        "\n",
        "Let's quickly use Cirq to simulate the circuit above."
      ]
    },
    {
      "cell_type": "code",
      "execution_count": null,
      "metadata": {
        "id": "TW_zU_pagVP0"
      },
      "outputs": [],
      "source": [
        "# Simulate the circuit, repeating 1000 times.\n",
        "print(\"Simulating circuit using Cirq...\\n\")\n",
        "results = cirq.sample(circuit, repetitions=1000)\n",
        "print(\"Measurement results:\")\n",
        "print(results)"
      ]
    },
    {
      "cell_type": "markdown",
      "metadata": {
        "id": "4ZK4GQWmyo-u"
      },
      "source": [
        "## Run on quantum hardware\n",
        "Approved users have access to a processor in \"open-swim\" mode that runs jobs on a first-in-first-out basis per user, with a fairness algorithm that balances jobs across users. To see which processors you have access to, you can either visit the [Cloud Console](https://console.cloud.google.com/quantum/processors) or call `list_processors()` on an `Engine` object."
      ]
    },
    {
      "cell_type": "markdown",
      "metadata": {
        "id": "uz0xSlml3fkA"
      },
      "source": [
        "### Create a Quantum Engine client\n",
        "Interactions with hardware are facilitated by the Quantum Computing Service. A client must first be initialized with your Google Cloud project to perform these interactions.\n",
        "\n",
        "You can create a client to the service as follows:\n",
        "\n",
        "`engine = cg.Engine(project_id=YOUR_PROJECT_ID)`\n",
        "\n",
        "Note: for this tutorial, we already initialized a variable `engine`."
      ]
    },
    {
      "cell_type": "markdown",
      "source": [
        "### Select a quantum processor\n",
        "Before running an experiment, you must first specify the processor on which you'd like to run. Please work with your internal point-of-contact to help decide which processor is most appropriate and to set expectations for how to best collaborate on the device.\n",
        "\n",
        "You can view the processors available to you in the [Cloud Console](https://console.cloud.google.com/quantum/processors) or with a call to `engine.list_processors()`."
      ],
      "metadata": {
        "id": "Msw_waVhQBLF"
      }
    },
    {
      "cell_type": "code",
      "source": [
        "processors = [p.processor_id for p in engine.list_processors() if p.health() == 'OK']\n",
        "print(f\"Available processors: {processors}\")"
      ],
      "metadata": {
        "id": "rvMeXrC1wnQi"
      },
      "execution_count": null,
      "outputs": []
    },
    {
      "cell_type": "markdown",
      "source": [
        "After selecting your device, enter its ID in the following code block and run it as well.\n",
        "\n",
        "![Run code block below](https://raw.githubusercontent.com/quantumlib/Cirq/main/docs/images/run-code-block.png)\n"
      ],
      "metadata": {
        "id": "m04izoTAu06T"
      }
    },
    {
      "cell_type": "code",
      "source": [
        "processor_id = \"\" #@param {type:\"string\"}"
      ],
      "metadata": {
        "cellView": "form",
        "id": "sFNJgR60Pufg"
      },
      "execution_count": null,
      "outputs": []
    },
    {
      "cell_type": "markdown",
      "metadata": {
        "id": "FS42e_sx0Hqw"
      },
      "source": [
        "### View the processor's topology\n",
        "Each processor has a set of available qubits laid out on a grid with limited couplings between qubits. The device specification can be printed to inspect the topology of a processor."
      ]
    },
    {
      "cell_type": "code",
      "execution_count": null,
      "metadata": {
        "id": "O-Jrib9y1TFY"
      },
      "outputs": [],
      "source": [
        "id = processor_id or processors[0]\n",
        "processor = engine.get_processor(id)\n",
        "\n",
        "# Print the device showing qubit connectivity.\n",
        "device = processor.get_device()\n",
        "print(device)"
      ]
    },
    {
      "cell_type": "markdown",
      "metadata": {
        "id": "bJ7ePCCNrh82"
      },
      "source": [
        "Note that the qubit that we used for the simulation above, `(0, 0)`, does not exist on the hardware. Since the grid of available qubits may change over time, we'll programatically select a valid qubit by inspecting `device.qubits`. We then use the `transform_qubits()` method to remap the circuit onto that qubit.\n",
        "\n",
        "In order to run on hardware, we must also ensure that the circuit only contains gates that the hardware supports. The basic gates used here are always available, so this circuit can be run without any further changes, but in general you may need to apply additional transformations before running arbitrary circuits. See the [best practices](https://quantumai.google/cirq/google/best_practices) guide for more information about running circuits on hardware."
      ]
    },
    {
      "cell_type": "code",
      "execution_count": null,
      "metadata": {
        "id": "ma8JDhTUR389"
      },
      "outputs": [],
      "source": [
        "valid_qubit = sorted(device.metadata.qubit_set)[0]\n",
        "\n",
        "# Transform circuit to use an available hardware qubit.\n",
        "hw_circuit = circuit.transform_qubits(lambda q: valid_qubit)\n",
        "\n",
        "print(hw_circuit)"
      ]
    },
    {
      "cell_type": "markdown",
      "source": [
        "Among these best practices, we will highlight two important ones.\n",
        "\n",
        "First, if your circuit uses more than one qubit, you can map the circuit onto the grid of the quantum processor in a way that accounts for its topology. You can do this as follows:"
      ],
      "metadata": {
        "id": "e-tOIGJD9c9_"
      }
    },
    {
      "cell_type": "code",
      "source": [
        "device_graph = device.metadata.nx_graph\n",
        "router = cirq.RouteCQC(device_graph)\n",
        "hw_circuit = router(circuit)\n",
        "print(hw_circuit)"
      ],
      "metadata": {
        "id": "LQh5D_Mx9hvk"
      },
      "execution_count": null,
      "outputs": []
    },
    {
      "cell_type": "markdown",
      "source": [
        "Second, if your quantum processor is calibrated to do a specific set of gates, you will need to transform your circuit into that gateset. For example, for a CZ gateset, you can do the following."
      ],
      "metadata": {
        "id": "3An1Uo6F9vxS"
      }
    },
    {
      "cell_type": "code",
      "source": [
        "gateset = cirq.CZTargetGateset(allow_partial_czs=True)\n",
        "transformed_circuit = cirq.optimize_for_target_gateset(hw_circuit, gateset=gateset)\n",
        "print(transformed_circuit)"
      ],
      "metadata": {
        "id": "muJ-dprf9_HC"
      },
      "execution_count": null,
      "outputs": []
    },
    {
      "cell_type": "markdown",
      "source": [
        "Other gatesets and considerations are included in the [best practices guide](https://quantumai.google/cirq/google/best_practices)."
      ],
      "metadata": {
        "id": "hmIT53Yv5RR1"
      }
    },
    {
      "cell_type": "markdown",
      "metadata": {
        "id": "TH4vtUeq2ryV"
      },
      "source": [
        "### Sample from a circuit on the Quantum Engine\n",
        "\n",
        "Experiments can be performed  on the Quantum Computing Service by _sampling_ from a circuit. A [`Sampler`](https://quantumai.google/reference/python/cirq/Sampler) encapsulates the setup details of an experiment. You can retrieve a Sampler from the Processor object we created above to collect samples from that processor.\n",
        "\n",
        "An un-parameterized call to `get_sampler()` will run with that processor's default configuration, but we support custom device layouts and calibrations to achieve the highest possible performance on the device for a given experiment. To use these features today, you'll need to work with an internal partner to supply you with the necessary configurations."
      ]
    },
    {
      "cell_type": "code",
      "source": [
        "sampler = processor.get_sampler(\n",
        "    # Get these values from an internal partner:\n",
        "    # device_config_name='layout_42',\n",
        "    # run_name='2023.11.06-1.0',\n",
        ")"
      ],
      "metadata": {
        "id": "bWeeaRUtllBY"
      },
      "execution_count": null,
      "outputs": []
    },
    {
      "cell_type": "markdown",
      "source": [
        "\n",
        "The execution of your experiment will likely be completed within a few seconds and the results will be displayed below. The output will include a link to the [console](https://console.cloud.google.com/quantum), where you can track the status and results of \"jobs\" spawned by your experiments."
      ],
      "metadata": {
        "id": "NRUCVZP0lr3A"
      }
    },
    {
      "cell_type": "code",
      "execution_count": null,
      "metadata": {
        "id": "-a0I0cbGyivS"
      },
      "outputs": [],
      "source": [
        "print(\"Scheduling execution on the Quantum Engine...\\n\")\n",
        "print(\"You can view jobs at: https://console.cloud.google.com/quantum/\"\n",
        "      \"jobs?project={}\\n\".format(project_id))\n",
        "\n",
        "# Print out the results. This blocks until the results are returned.\n",
        "results = sampler.run(hw_circuit, repetitions=1000)\n",
        "cirq.plot_state_histogram(results)"
      ]
    },
    {
      "cell_type": "markdown",
      "metadata": {
        "id": "3u4dLfDugI9l"
      },
      "source": [
        "## Running from the command line\n",
        "\n",
        "If you are planning to access Quantum Computing Service from the command line, follow these instructions to get started.  If you plan on executing all of your programs from an ipython notebook, you can skip this section.\n",
        "\n",
        "### Setup Cirq\n",
        "\n",
        "Follow the [Cirq Install](https://quantumai.google/cirq/start/install) page to install Cirq locally. We highly recommend that you setup a Python virtual environment for this installation to isolate your development stack from your overall system installations. Make sure to setup the virtual environment for Python 3 and not Python 2.\n",
        "\n",
        "### Setup Google Cloud authentication\n",
        "\n",
        "In this quickstart we will authenticate using the gcloud command line cool.  To do this, one must first install gcloud.  Follow the instructions for this at https://cloud.google.com/sdk/install. We will authenticate using Application Default Credentials.  To do this simply run the following on your shell command line\n",
        "\n",
        "`gcloud auth application-default login`\n",
        "\n",
        "This will open up a browser window or give you a link to a webpage you can navigate to in order to go through an authentication flow.  Complete this using your Google account.  After this command is run, credentials will be stored on your local machine.  If at any point you want to revoke these credentials you can run `gcloud auth application-default revoke`. These credendtials typically\n",
        "need to be renewed once each day.\n",
        "\n",
        "It is recommended that your colab runs using Python 3.11 or greater."
      ]
    },
    {
      "cell_type": "markdown",
      "metadata": {
        "id": "quSdrNseg8LC"
      },
      "source": [
        "### Write and run a short quantum program\n",
        "\n",
        "Using your favorite IDE or editor, read and then paste the following hello_qubit program into a file called `hello_qubit.py`.  Make sure to replace the `'your-project-id'` string with the project id you created above.\n"
      ]
    },
    {
      "cell_type": "code",
      "execution_count": null,
      "metadata": {
        "id": "4RXHE070gleY"
      },
      "outputs": [],
      "source": [
        "import cirq\n",
        "import cirq_google as cg\n",
        "\n",
        "def example(engine, processor_id):\n",
        "    \"\"\"Hello qubit example run against a quantum processor.\"\"\"\n",
        "\n",
        "    # Define a qubit on the device.\n",
        "    processor = engine.get_processor(processor_id)\n",
        "    qubit = sorted(processor.get_device().metadata.qubit_set)[0]\n",
        "\n",
        "    # Create a circuit (qubits start in the |0> state).\n",
        "    circuit = cirq.Circuit(\n",
        "        cirq.X(qubit)**0.5,                # Square root of NOT.\n",
        "        cirq.measure(qubit, key='result')  # Measurement.\n",
        "    )\n",
        "\n",
        "    sampler = processor.get_sampler()\n",
        "    print(\"Sampling circuit on Quantum Engine...\\n\")\n",
        "    results = sampler.run(circuit, repetitions=1000)\n",
        "\n",
        "    print(\"\\nMeasurement results:\")\n",
        "    print(results)\n",
        "\n",
        "if __name__ == '__main__':\n",
        "    # Set up QCS objects.\n",
        "    from cirq_google.engine.qcs_notebook import get_qcs_objects_for_notebook\n",
        "    qcs_objects = get_qcs_objects_for_notebook(project_id='')\n",
        "    processor_id = qcs_objects.processor_id\n",
        "    engine = qcs_objects.engine\n",
        "\n",
        "    example(engine, processor_id)"
      ]
    },
    {
      "cell_type": "markdown",
      "metadata": {
        "id": "TjYi3VOTgyvh"
      },
      "source": [
        "Once saved, you can  run this program from the command line:\n",
        "\n",
        "```\n",
        "python hello_qubit.py\n",
        "```\n",
        "\n",
        "Upon successful completion, the script will print the sampled bitstring."
      ]
    },
    {
      "cell_type": "markdown",
      "metadata": {
        "id": "WCKQ1lIJSgJ7"
      },
      "source": [
        "## Next steps\n",
        "* Use [this template colab](https://quantumai.google/cirq/tutorials/google/colab) as a base for your own explorations.\n",
        "* Explore [best practices](https://quantumai.google/cirq/google/best_practices) for getting circuits to run on hardware.\n"
      ]
    }
  ],
  "metadata": {
    "colab": {
      "provenance": [],
      "include_colab_link": true
    },
    "kernelspec": {
      "display_name": "Python 3",
      "name": "python3"
    }
  },
  "nbformat": 4,
  "nbformat_minor": 0
}